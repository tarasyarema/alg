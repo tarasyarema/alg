{
 "cells": [
  {
   "cell_type": "markdown",
   "metadata": {
    "colab_type": "text",
    "id": "xHTT4DF3s0pz"
   },
   "source": [
    "# <span class=\"tema\">(Ordenar i cerca)</span> Sumatori parcial màxim"
   ]
  },
  {
   "cell_type": "markdown",
   "metadata": {
    "colab_type": "text",
    "id": "x4qcsKZHs0p1"
   },
   "source": [
    "Donada una llista d’enters, trobar el sumatori parcial d'elements consecutius de valor màxim. \n",
    "\n",
    "Si el valor màxim és negatiu, el sumatori parcial màxim donarà 0\n",
    "\n",
    "Indicacions:\n",
    "+ Aquest algorisme es pot implementar de tres maneres. \n",
    "    + Força bruta $(O(n*n))$\n",
    "    + Dividir i conquerir $(O(n log n))$\n",
    "    + Algorisme de Kadane $(O(n))$\n",
    "\n",
    "L'Algorisme Kadane consisteix en fer un únic recorregut per la llista, i anar acumulant el valor de la suma, amb la particularitat que si el que portem acumulat és negatiu, ho descartem.\n",
    "\n",
    "Per exemple, a la llista [-1,0,3,4,-2,5]   aniriem acumulant -1 => és negatiu, descartem; 0, 3, 7, 5, 10\n",
    "\n",
    "per no perdre màxims locals hem de mantenir dos valors: el valor acumulat fins a un punt i el valor màxim. A l'exemple:\n",
    "\n",
    "- **[-1**, 0, 3, 4, -2, 5] acum:-1=>0, maxim:0;  \n",
    "- **[-1, 0**, 3, 4, -2, 5] acum=0, màxim:0; \n",
    "- **[-1, 0, 3**, 4, -2, 5] acum:3, màxim:3; \n",
    "- **[-1, 0, 3, 4**, -2, 5] acum:7, màxim:7; \n",
    "- **[-1, 0, 3, 4, -2**, 5] acum:5, màxim:7; \n",
    "- **[-1, 0, 3, 4, -2, 5**] acum:10, màxim:10"
   ]
  },
  {
   "cell_type": "markdown",
   "metadata": {
    "colab_type": "text",
    "id": "EZM1yNFss0p2"
   },
   "source": [
    "### Conceptualització problema\n",
    "\n",
    "#### Implementa les tres versions de la solució\n",
    "    \n",
    "**Fet** a la cel·la següent.\n",
    "    \n",
    "#### Calcula el cost de cadascuna\n",
    "Suposem que $n$ denota la llargada de la llista.\n",
    "\n",
    "- **Brute force**: Es recorre la un cop llista. En cada pas es torna a recorre la llista, fent operacions $O(1)$. Per tant, la complexitat total és $O(n^2)$.\n",
    "- **Divide and conquer**: A partir dels [Master Theorem](https://en.wikipedia.org/wiki/Master_theorem_(analysis_of_algorithms)), tenim que $T(n) = 2 \\cdot T(\\frac{n}{2}) + O(n)$, ja que dividim la llista en dos en cada pas recursiu. D'aquí es pot extreure que la complexitat final és $O(n \\log (n))$.\n",
    "- **Kadane**: $O(n)$, ja que només es recorre la llista un cop, fent operacion $O(1)$ en cada pas."
   ]
  },
  {
   "cell_type": "markdown",
   "metadata": {},
   "source": [
    "### Implementació"
   ]
  },
  {
   "cell_type": "code",
   "execution_count": 1,
   "metadata": {
    "colab": {},
    "colab_type": "code",
    "id": "l2AlB6ahs0p6"
   },
   "outputs": [],
   "source": [
    "def sumatoriParcialMaximBrute(llista: list) -> int:\n",
    "    max_acc, arr_len = 0, len(llista)\n",
    "    \n",
    "    # We iterate over all the possible subarrays\n",
    "    \n",
    "    for i in range(arr_len):\n",
    "        for j in range(i+1, arr_len+1):\n",
    "            \n",
    "            # Compute the sum of the substring\n",
    "            # and update the max\n",
    "            \n",
    "            tmp_acc = sum(llista[i:j])\n",
    "            \n",
    "            if tmp_acc > max_acc:\n",
    "                max_acc = tmp_acc\n",
    "    \n",
    "    return max_acc\n",
    "\n",
    "def sumatoriParcialMaximDivide(llista: list) -> int:\n",
    "    \n",
    "    # Base cases\n",
    "    # If array contains only one element\n",
    "    \n",
    "    if len(llista) == 0:\n",
    "        return 0\n",
    "    \n",
    "    if len(llista) == 1:\n",
    "        return llista[0] if llista[0] > 0 else 0\n",
    "\n",
    "    # Find the middle element of the array\n",
    "    \n",
    "    mid = len(llista) // 2\n",
    "\n",
    "    # Find the max. subarray sum \n",
    "    # for the left subarray\n",
    "    \n",
    "    acc_left, max_left = 0, -1e+9\n",
    "    \n",
    "    for n in reversed(llista[:mid]): \n",
    "        acc_left += n\n",
    "        \n",
    "        if acc_left > max_left:\n",
    "            max_left = acc_left\n",
    "\n",
    "    # Find maximum subarray sum \n",
    "    # for the right subarray\n",
    "    \n",
    "    acc_right, max_right = 0, -1e+9\n",
    "    \n",
    "    for n in llista[mid:]: \n",
    "        acc_right += n\n",
    "        \n",
    "        if acc_right > max_right:\n",
    "            max_right = acc_right\n",
    "\n",
    "\n",
    "    # Recurssion step\n",
    "    \n",
    "    max_lr = max(\n",
    "        sumatoriParcialMaximDivide(llista[:mid]), \n",
    "        sumatoriParcialMaximDivide(llista[mid:]))\n",
    "    \n",
    "    # Return de max from the sides \n",
    "    # and middle segments\n",
    "    \n",
    "    max_acc = max(max_lr, max_left + max_right)\n",
    "    return max_acc if max_acc > 0 else 0\n",
    "        \n",
    "def sumatoriParcialMaxim(llista: list) -> int:\n",
    "    acc, max_acc = 0, 0\n",
    "    \n",
    "    for n in llista:\n",
    "        # Add the actual element\n",
    "        \n",
    "        acc += n\n",
    "        \n",
    "        # If the partial sum is negative,\n",
    "        # we reset it\n",
    "        \n",
    "        if acc < 0:\n",
    "            acc = 0\n",
    "        \n",
    "        # Update the max sum value\n",
    "        \n",
    "        if acc > max_acc:\n",
    "            max_acc = acc\n",
    "    \n",
    "    return max_acc"
   ]
  },
  {
   "cell_type": "code",
   "execution_count": 2,
   "metadata": {},
   "outputs": [
    {
     "name": "stdout",
     "output_type": "stream",
     "text": [
      "sumatoriParcialMaxim([-3, 1, -5, 2, 7, 8]) = 17\n"
     ]
    }
   ],
   "source": [
    "def prettySumatoriParcialMaxim(llista: list) -> None:\n",
    "    max_sum = sumatoriParcialMaxim(llista)\n",
    "    print(f\"sumatoriParcialMaxim({llista}) = {max_sum}\")\n",
    "    \n",
    "prettySumatoriParcialMaxim([-3, 1, -5, 2, 7, 8])"
   ]
  },
  {
   "cell_type": "markdown",
   "metadata": {},
   "source": [
    "### Testeig\n",
    "\n",
    "#### Exemple\n",
    "```python\n",
    "sumatoriParcialMaxim([-3, 1, -5, 2, 7, 8]) # ha de retornar 17\n",
    "```"
   ]
  },
  {
   "cell_type": "code",
   "execution_count": 3,
   "metadata": {},
   "outputs": [
    {
     "name": "stdout",
     "output_type": "stream",
     "text": [
      "Tests cases #1: Known results\n",
      "Ran 2 tests ... OK\n",
      "\n",
      "Tests cases #2: Random\n",
      "Ran 200 tests ... OK\n"
     ]
    }
   ],
   "source": [
    "from random import randint\n",
    "\n",
    "test_arr, arr_res     = [-3, 1, -5, 2, 7, 8], 17\n",
    "test_arr_2, arr_res_2 = [-1, 0, 3, 4, -2, 5], 10\n",
    "\n",
    "# Test for known results\n",
    "\n",
    "print(\"Tests cases #1: Known results\")\n",
    "assert sumatoriParcialMaxim(test_arr) == arr_res\n",
    "assert sumatoriParcialMaxim(test_arr_2) == arr_res_2\n",
    "print(\"Ran 2 tests ... OK\\n\")\n",
    "\n",
    "\n",
    "# Test that the three functions have the same outputs\n",
    "\n",
    "TEST_CASES = 100\n",
    "print(\"Tests cases #2: Random\")\n",
    "\n",
    "for i in range(TEST_CASES):\n",
    "    \n",
    "    # Generate random array of ints\n",
    "    # and get the target max value based on\n",
    "    # the Kadane algorithm\n",
    "    \n",
    "    arr = [randint(-1e+3, 1e+3) for _ in range(0, randint(1, 1e+2))]\n",
    "    target = sumatoriParcialMaxim(arr)\n",
    "        \n",
    "    # Test the results are equal for all\n",
    "    # the functions\n",
    "        \n",
    "    assert target == sumatoriParcialMaximBrute(arr)\n",
    "    assert target == sumatoriParcialMaximDivide(arr)\n",
    "        \n",
    "print(f\"Ran {2*TEST_CASES} tests ... OK\")"
   ]
  },
  {
   "cell_type": "markdown",
   "metadata": {},
   "source": [
    "### Benchmark & performance\n",
    "\n",
    "Utilitzaré la llibreria `matplotlib` per veure com creix el temps d'execució usant els tres algoritmes implementats."
   ]
  },
  {
   "cell_type": "code",
   "execution_count": 4,
   "metadata": {},
   "outputs": [
    {
     "name": "stdout",
     "output_type": "stream",
     "text": [
      "              total (s)\tmean (s)\n",
      "Brute force   4.998596\t0.016662\n",
      "Divide & con. 0.112085\t0.000374\n",
      "Kadane        0.004815\t0.000016\n"
     ]
    },
    {
     "data": {
      "image/png": "[encoded data removed]",
      "text/plain": [
       "<Figure size 432x288 with 1 Axes>"
      ]
     },
     "metadata": {
      "needs_background": "light"
     },
     "output_type": "display_data"
    }
   ],
   "source": [
    "from time import time\n",
    "from matplotlib import pyplot as plt\n",
    "\n",
    "%matplotlib inline\n",
    "\n",
    "TEST_CASES, BASE = 300, 1\n",
    "\n",
    "ns = []\n",
    "t_brute, t_divide, t_kadane = [], [], []\n",
    "\n",
    "for i in range(TEST_CASES):\n",
    "    arr = [randint(-1e+3, 1e+3) for _ in range(BASE)]\n",
    "    BASE += 1\n",
    "    \n",
    "    ns.append(BASE)\n",
    "    \n",
    "    t = time()\n",
    "    _ = sumatoriParcialMaximBrute(arr)\n",
    "    t_brute.append(time() - t)\n",
    "    \n",
    "    t = time()\n",
    "    _ = sumatoriParcialMaximDivide(arr)\n",
    "    t_divide.append(time() - t)\n",
    "    \n",
    "    t = time()\n",
    "    _ = sumatoriParcialMaxim(arr)\n",
    "    t_kadane.append(time() - t)\n",
    "\n",
    "t_brute_sum = sum(t_brute)\n",
    "t_divide_sum = sum(t_divide)\n",
    "t_kadane_sum = sum(t_kadane)\n",
    "\n",
    "t_brute_mean = t_brute_sum / TEST_CASES\n",
    "t_divide_mean = t_divide_sum / TEST_CASES\n",
    "t_kadane_mean = t_kadane_sum / TEST_CASES\n",
    "\n",
    "print(\"              total (s)\\tmean (s)\")\n",
    "print(f\"Brute force   {t_brute_sum:2.6f}\\t{t_brute_mean:2.6f}\")\n",
    "print(f\"Divide & con. {t_divide_sum:2.6f}\\t{t_divide_mean:2.6f}\")\n",
    "print(f\"Kadane        {t_kadane_sum:2.6f}\\t{t_kadane_mean:2.6f}\")\n",
    "\n",
    "\n",
    "# Matplotlib stuff\n",
    "\n",
    "plt.plot(ns, t_brute, label=\"Brute force\")\n",
    "plt.plot(ns, t_divide, label=\"Divide and conquer\")\n",
    "plt.plot(ns, t_kadane, label=\"Kadane\")\n",
    "plt.xlabel(\"Array len.\")\n",
    "plt.ylabel(\"Time (s)\")\n",
    "plt.legend()\n",
    "plt.show()"
   ]
  },
  {
   "cell_type": "markdown",
   "metadata": {
    "colab_type": "text",
    "id": "6sDeyjwNs0qB"
   },
   "source": [
    "### Avaluació (0 a 10 punts)\n",
    "\n",
    "\n",
    "Concepte | Puntuació \n",
    "--- | --- \n",
    "Solució correcta força bruta | **3** punt\n",
    "Solució correcta i eficient Kadane | **4** punt\n",
    "Solució correcta i eficient  dividir i vencer | **2** punt\n",
    "Solució correcta no eficient | **2** punts \n",
    "Codi comentat i seguint estàndar PEP8 | **+1** punt \n",
    "S'ofereix una funció adicional per mostrar la solució elegantment| **+0.5** punts \n",
    "L'algorisme falla repetidament | **-7** punts \n",
    "L'algorisme falla en algun cas excepcional | **-4** punt\n",
    "No es donen prous exemples d'execució | **-1** punt\n",
    "Codi, noms de variables, solució o comentaris no prou clars | **-1** punt\n",
    "La funció o els paràmetres no s'anomenen com a l'exemple | **-1** punt"
   ]
  }
 ],
 "metadata": {
  "colab": {
   "name": "SumatoriParcialMaxim.ipynb",
   "provenance": []
  },
  "kernelspec": {
   "display_name": "Python 3",
   "language": "python",
   "name": "python3"
  },
  "language_info": {
   "codemirror_mode": {
    "name": "ipython",
    "version": 3
   },
   "file_extension": ".py",
   "mimetype": "text/x-python",
   "name": "python",
   "nbconvert_exporter": "python",
   "pygments_lexer": "ipython3",
   "version": "3.7.4"
  }
 },
 "nbformat": 4,
 "nbformat_minor": 1
}
