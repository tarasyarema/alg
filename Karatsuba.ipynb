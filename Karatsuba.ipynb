{
 "cells": [
  {
   "cell_type": "markdown",
   "metadata": {
    "colab_type": "text",
    "id": "7ynmiD66n9V0"
   },
   "source": [
    "<div id=\"capcalera\">\n",
    "<p><a href=\"https://colab.research.google.com/github/algorismica2019/problemes/blob/master/Karatsuba.ipynb\"><img style=\"margin:-10px 10px 20px 0\" width=\"150px\" align=\"right\" src=\"https://raw.githubusercontent.com/algorismica2019/problemes/master/assets/colab-badge.png?raw=1\" alt=\"Obrir a Colab\" title=\"Obrir i executar a Google Colaboratory\"></a></p>\n",
    "<p style=\"clear:both\"><img align='left' width=\"300px\" style=\"padding-right:10px;float=left\" src=\"https://raw.githubusercontent.com/algorismica2019/problemes/master/assets/al-khwarizmi.png\">Aquest notebook forma part dels continguts teòrics dels problemes de l'assignatura d'<strong>Algorísmica</strong> del Grau d'Enginyeria Informàtica a la <a href=\"https://mat.ub.edu\">Facultat de Matemàtiques i Informàtica</a> de la <a href=\"https://www.ub.edu\">Universitat de Barcelona</a> impartida per <em>Jordi Vitrià</em> i <em>Mireia Ribera</em></p>\n",
    "\n",
    "<p>Els problemes s'ofereixen sota llicència <a href=\"https://creativecommons.org/licenses/by-nc-nd/3.0/us/legalcode\">CC-BY-NC-ND license</a>, i el codi sota <a href=\"https://opensource.org/licenses/MIT\">Llicència MIT</a>.</p>\n",
    "\n",
    "<p style=\"clear:both;text-align:center\">&lt; <a href=\"FibonacciEnessim.ipynb\">Problema anterior</a> | <a href=\"LListatProblemes.ipynb\">LListat de problemes</a> | <a href=\"MCD.ipynb\">Problema següent</a> &gt; </p>\n",
    "\n",
    "</div>"
   ]
  },
  {
   "cell_type": "markdown",
   "metadata": {
    "colab_type": "text",
    "id": "73W0bCuin9V4"
   },
   "source": [
    "# <span class=\"tema\">(Numèrics)</span> Karatsuba "
   ]
  },
  {
   "cell_type": "markdown",
   "metadata": {
    "colab_type": "text",
    "id": "7WQ5kIqyn9V6"
   },
   "source": [
    "Escriu un algorisme recursiu, ``karatsuba``, que calculi la multiplicació pel mètode de Karatsuba (https://es.wikipedia.org/wiki/Algoritmo_de_Karatsuba) en base 10 de dos nombres de dos dígits. **Apunta la complexitat de les operacions involucrades i explica quantes vegades es crida amb els valors (10,15)**. "
   ]
  },
  {
   "cell_type": "markdown",
   "metadata": {
    "colab_type": "text",
    "id": "DpFiM5TNn9V8"
   },
   "source": [
    "### Conceptualització problema\n",
    "\n",
    "1. En què es basa aquest algorisme per dividir cada nombre en dos termes? \n",
    "2. Com separaries un nombre de dos dígits en base 10 en el valor de desenes i en el d'unitats usant la divisió i/o el mòdul?  ex. 15 => 1 desena 5 unitats"
   ]
  },
  {
   "cell_type": "markdown",
   "metadata": {
    "colab_type": "text",
    "id": "b2R348aPn9V-"
   },
   "source": [
    "### Testeig (_definit al final del notebook_)\n",
    "\n",
    "Defineix aquí diversos exemples d'execucions que cobreixin els casos que pot presentar l'algorisme\n",
    "\n",
    "Exemple:\n",
    "- karatsuba(11,45)          => ha de retornar 495"
   ]
  },
  {
   "cell_type": "markdown",
   "metadata": {
    "colab": {},
    "colab_type": "code",
    "collapsed": true,
    "id": "si_XEgxCn9WB"
   },
   "source": [
    "### Respostes\n",
    "#### Complexitat\n",
    "La complexitat del algoritme recursiu de Karatsuba és $T(n) = \\Theta(n^{\\log_2 3})$, utilitzan el _master theorem_ per el càlcul de complexitats d'algoritmes recursius. \n",
    "\n",
    "#### Anàlisis `karatsuba(10, 15)`\n",
    "En aquest cas, la funció es crida un primer cop (`karatsuba(10, 15)`). Es computen\n",
    "```\n",
    "x_H = 1\n",
    "x_L = 0\n",
    "y_H = 1\n",
    "y_L = 5\n",
    "``` \n",
    "i es fan tres crides recursives `karatsuba`:\n",
    "```\n",
    "karatsuba(x_H, y_H) = karatsuba(1, 1)\n",
    "karatsuba(x_L, y_L) = karatsuba(0, 5)\n",
    "karatsuba(x_H + x_L, y_H + y_Ñ) = karatsuba(1, 6)\n",
    "```\n",
    "Les tres crides entren dintre del cas base `x < 10 and y < 10`, per tant el programa acaba.\n",
    "En total, es fan **4 crides**."
   ]
  },
  {
   "cell_type": "markdown",
   "metadata": {
    "colab_type": "text",
    "id": "Cw5o6wNRn9WG"
   },
   "source": [
    "### Implementació"
   ]
  },
  {
   "cell_type": "markdown",
   "metadata": {},
   "source": [
    "He afagit un parametre (base) a la funció\n",
    "No compleix el requisit:\n",
    "    _\"La funció o els paràmetres no s'anomenen com a l'exemple\"_\n",
    "\n",
    "Tot i així, crec que és millor que definir la variable\n",
    "base com a global, o interna.\n",
    "D'aquesat manera la funció es pot utilitzar de manera general"
   ]
  },
  {
   "cell_type": "code",
   "execution_count": 1,
   "metadata": {
    "colab": {},
    "colab_type": "code",
    "id": "YgqQKUO9n9WJ"
   },
   "outputs": [],
   "source": [
    "from math import ceil, floor\n",
    "\n",
    "def karatsuba(x, y, base=10):\n",
    "    \"\"\"\n",
    "    Computes the operation x * y \n",
    "    using the recursive Karatsuba algorithm\n",
    "    \n",
    "    :param x: (int) Frist number to multiply\n",
    "    :param y: (int) Second parameter to multiply\n",
    "    :param base: (int, default 10) Base of the given params\n",
    "    \n",
    "    :return: (int) x * y using karatsuba\n",
    "    \"\"\"\n",
    "    \n",
    "    # Base case\n",
    "    if x < 10 and y < 10:\n",
    "        return x * y\n",
    "\n",
    "    n = max(len(str(x)), len(str(y)))\n",
    "    m = ceil(n / 2)\n",
    "    \n",
    "    # Descompose x\n",
    "    # x = x_H * BASE**(m / 2) + x_L\n",
    "    x_H = floor(x / base**m)\n",
    "    x_L = x % (base**m)\n",
    "\n",
    "    # Descompose y\n",
    "    # y = y_H * BASE**(m / 2) + y_L\n",
    "    y_H = floor(y / base**m)\n",
    "    y_L = y % (base**m)\n",
    "    \n",
    "    # Recursive steps\n",
    "    a = karatsuba(x_H,y_H)\n",
    "    d = karatsuba(x_L,y_L)\n",
    "    e = karatsuba(x_H + x_L, y_H + y_L) - a - d\n",
    "\n",
    "    return int(a * (base**(m * 2)) + e * (base**m) + d)"
   ]
  },
  {
   "cell_type": "code",
   "execution_count": 2,
   "metadata": {},
   "outputs": [
    {
     "name": "stdout",
     "output_type": "stream",
     "text": [
      "karatsuba(11, 45, base=10) = 495\n"
     ]
    }
   ],
   "source": [
    "def pretty_karatsuba(x, y, base=10):\n",
    "    return f\"karatsuba({x}, {y}, base={base}) = {karatsuba(x, y, base)}\"\n",
    "\n",
    "pk = pretty_karatsuba(11, 45)\n",
    "print(pk)"
   ]
  },
  {
   "cell_type": "markdown",
   "metadata": {},
   "source": [
    "### Tests"
   ]
  },
  {
   "cell_type": "code",
   "execution_count": 3,
   "metadata": {},
   "outputs": [
    {
     "name": "stdout",
     "output_type": "stream",
     "text": [
      "Running random tests...\n",
      "Ran 1000 tests.\n",
      "Time elapsed: 0.405592 s.\n",
      "OK\n"
     ]
    }
   ],
   "source": [
    "import sys\n",
    "import traceback\n",
    "\n",
    "from time import time\n",
    "from random import randint\n",
    "\n",
    "MAX_RAND = 10**20\n",
    "NUM_TESTS = 10**3\n",
    "\n",
    "try:\n",
    "    print(\"Running random tests...\")\n",
    "    _t = time()\n",
    "    for i in range(1, NUM_TESTS+1):\n",
    "        x, y = randint(0, MAX_RAND),randint(0, MAX_RAND)\n",
    "        assert karatsuba(x, y) == x * y\n",
    "    _elapsed = time() - _t\n",
    "    print(f\"Ran {NUM_TESTS} tests.\\nTime elapsed: {_elapsed:3.6} s.\")\n",
    "    print(\"OK\")\n",
    "    \n",
    "except AssertionError:\n",
    "    _, _, tb = sys.exc_info()\n",
    "    traceback.print_tb(tb)\n",
    "    tb_info = traceback.extract_tb(tb)\n",
    "    filename, line, func, text = tb_info[-1]"
   ]
  },
  {
   "cell_type": "markdown",
   "metadata": {
    "colab_type": "text",
    "id": "xHEOzuman9WN"
   },
   "source": [
    "### Avaluació (0 a 10 punts)\n",
    "\n",
    "\n",
    "Concepte | Puntuació \n",
    "--- | --- \n",
    "Solució correcta eficient | **8** punts\n",
    "Càlcul correcte del cost de l'algorisme | **+1** punt\n",
    "Solució correcta no eficient | **3** punts \n",
    "Codi comentat i seguint estàndar PEP8 | **+1** punt \n",
    "S'ofereix una funció adicional per mostrar la solució elegantment| **+0.5** punts \n",
    "L'algorisme falla repetidament | **-7** punts \n",
    "L'algorisme falla en algun cas excepcional | **-2** punt\n",
    "No es donen prous exemples d'execució | **-1** punt\n",
    "Codi, noms de variables, solució o comentaris no prou clars | **-1** punt\n",
    "La funció o els paràmetres no s'anomenen com a l'exemple | **-1** punt"
   ]
  },
  {
   "cell_type": "markdown",
   "metadata": {
    "colab_type": "text",
    "id": "MEliHFWun9WV"
   },
   "source": [
    "<div id=\"peu\">\n",
    "<p><a href=\"https://colab.research.google.com/github/algorismica2019/problemes/blob/master/Karatsuba.ipynb\"><img style=\"margin:-10px 10px 20px 0\" width=\"150px\" align=\"right\" src=\"https://raw.githubusercontent.com/algorismica2019/problemes/master/assets/colab-badge.png?raw=1\" alt=\"Obrir a Colab\" title=\"Obrir i executar a Google Colaboratory\"></a></p>\n",
    "<p style=\"clear:both;text-align:center\">&lt; <a href=\"FibonacciEnessim.ipynb\">Problema anterior</a> | <a href=\"LListatProblemes.ipynb\">LListat de problemes</a> | <a href=\"MCD.ipynb\">Problema següent</a> &gt; </p>\n",
    "</div>"
   ]
  }
 ],
 "metadata": {
  "colab": {
   "name": "Karatsuba.ipynb",
   "provenance": []
  },
  "kernelspec": {
   "display_name": "Python 3",
   "language": "python",
   "name": "python3"
  },
  "language_info": {
   "codemirror_mode": {
    "name": "ipython",
    "version": 3
   },
   "file_extension": ".py",
   "mimetype": "text/x-python",
   "name": "python",
   "nbconvert_exporter": "python",
   "pygments_lexer": "ipython3",
   "version": "3.6.8"
  }
 },
 "nbformat": 4,
 "nbformat_minor": 1
}
