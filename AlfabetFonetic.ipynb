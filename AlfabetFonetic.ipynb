{
 "cells": [
  {
   "cell_type": "markdown",
   "metadata": {},
   "source": [
    "# <span class=\"tema\">(Text)</span> Traducció a l'alfabet fonètic"
   ]
  },
  {
   "cell_type": "markdown",
   "metadata": {},
   "source": [
    "Escriu una funció, ``fonetic``, que usant un diccionari converteixi una cadena a l’alfabet fonètic. L’alfabet fonètic és el següent:  \n",
    "\n",
    "\n",
    "A=Alpha\t, B=Bravo \t    , C=Charlie\t    , D=Delta\t\t, E=Echo\t\t, F=Foxtrot ,\n",
    "G=Golf\t, H=Hotel\t\t, I=India\t\t, J=Juliet\t\t, K=Kilo\t\t, L=Lima   ,\n",
    "M=Mike\t, N=November\t, O=Oscar\t\t, P=Papa\t\t, Q=Quebec\t    , R=Romeo  ,\n",
    "S=Sierra\t, T=Tango\t\t, U=Uniform\t    , V=Victor\t\t, W=Whiskey\t    , X=Xray   ,\n",
    "Y=Yankee\t, Z=Zulu      ,\n",
    "\n",
    "Per exemple, ``PYTHON = Papa Yankee Tango Hotel Oscar November``. \n",
    "\n",
    "Pots suposar que la cadena només conté aquests caràcters."
   ]
  },
  {
   "cell_type": "markdown",
   "metadata": {},
   "source": [
    "### Conceptualització problema\n",
    "\n",
    "#### Hi ha alguna col.lecció que et pugui resultar útil?\n",
    "\n",
    "Un `dict()` per guardar les l'alfabet i una list comprehension seguida d'un join per a generar la traducció.\n",
    "\n",
    "#### Quin cost tindrà l'algorisme?\n",
    "\n",
    "L'algoritme tindrà cost $O(n)$ on $n$ és la llargada de la cadena a traduïr (l'accés a un diccionari és $O(1)$).\n",
    "\n",
    "#### Explica els passos que fa l'algorisme en el cas fonetic(\"Python\")\n",
    "\n",
    "Genera una list comprehension amb la traducció de cada caràcter (havent passat cadascúna de les lletres a majúscules). Finalment fa un join d'aquesta llista.\n"
   ]
  },
  {
   "cell_type": "markdown",
   "metadata": {},
   "source": [
    "### Implementació"
   ]
  },
  {
   "cell_type": "code",
   "execution_count": 1,
   "metadata": {},
   "outputs": [],
   "source": [
    "LETTERS = {\n",
    "    \"A\": \"Alpha\",\n",
    "    \"B\": \"Bravo\",\n",
    "    \"C\": \"Charlie\",\n",
    "    \"D\": \"Delta\",\n",
    "    \"E\": \"Echo\",\n",
    "    \"F\": \"Foxtrot\",\n",
    "    \"G\": \"Golf\",\n",
    "    \"H\": \"Hotel\",\n",
    "    \"I\": \"India\",\n",
    "    \"J\": \"Juliet\",\n",
    "    \"K\": \"Kilo\",\n",
    "    \"L\": \"Lima\",\n",
    "    \"M\": \"Mike\",\n",
    "    \"N\": \"November\",\n",
    "    \"O\": \"Oscar\",\n",
    "    \"P\": \"Papa\",\n",
    "    \"Q\": \"Quebec\",\n",
    "    \"R\": \"Romeo\",\n",
    "    \"S\": \"Sierra\",\n",
    "    \"T\": \"Tango\",\n",
    "    \"U\": \"Uniform\",\n",
    "    \"V\": \"Victor\",\n",
    "    \"W\": \"Whiskey\",\n",
    "    \"X\": \"Xray\",\n",
    "    \"Y\": \"Yankee\",\n",
    "    \"Z\": \"Zulu\"\n",
    "}"
   ]
  },
  {
   "cell_type": "code",
   "execution_count": 2,
   "metadata": {},
   "outputs": [],
   "source": [
    "def fonetic(paraula):\n",
    "    \"\"\"\n",
    "    Tradueix una cadena de caràcters a llenguatge fonètic.\n",
    "    \n",
    "    Paramteres\n",
    "    ----------\n",
    "        paraula: str\n",
    "                 Se suposa que dita paraula està formada\n",
    "                 per caràcters a-zA-Z.\n",
    "    \n",
    "    Returns\n",
    "    -------\n",
    "        str\n",
    "            La cadena traduïda\n",
    "    \"\"\"\n",
    "    \n",
    "    return \" \".join(LETTERS[l.upper()] for l in paraula)"
   ]
  },
  {
   "cell_type": "code",
   "execution_count": 3,
   "metadata": {},
   "outputs": [],
   "source": [
    "def pretty_fonetic(paraula):\n",
    "    return \"fonetic(\\\"{}\\\") = \\\"{}\\\"\".format(paraula, fonetic(paraula))"
   ]
  },
  {
   "cell_type": "code",
   "execution_count": 4,
   "metadata": {},
   "outputs": [
    {
     "name": "stdout",
     "output_type": "stream",
     "text": [
      "fonetic(\"Python\") = \"Papa Yankee Tango Hotel Oscar November\"\n"
     ]
    }
   ],
   "source": [
    "pf = pretty_fonetic(\"Python\")\n",
    "print(pf)"
   ]
  },
  {
   "cell_type": "markdown",
   "metadata": {},
   "source": [
    "### Avaluació (0 a 10 punts)\n",
    "\n",
    "\n",
    "Concepte | Puntuació \n",
    "--- | --- \n",
    "Solució correcta de complexitat O(n) | **7** punts\n",
    "Col.lecció correcta | **+2** punt\n",
    "Solució correcta de complexitat > O(n) | **3** punts \n",
    "Codi comentat i seguint estàndar PEP8 | **+1** punt \n",
    "S'ofereix una funció adicional per mostrar la solució elegantment| **+0.5** punts \n",
    "L'algorisme falla repetidament | **-7** punts \n",
    "L'algorisme falla en algun cas excepcional | **-2** punt\n",
    "No es donen prous exemples d'execució | **-1** punt\n",
    "Codi, noms de variables, solució o comentaris no prou clars | **-1** punt\n",
    "La funció o els paràmetres no s'anomenen com a l'exemple | **-1** punt"
   ]
  }
 ],
 "metadata": {
  "kernelspec": {
   "display_name": "Python 3",
   "language": "python",
   "name": "python3"
  },
  "language_info": {
   "codemirror_mode": {
    "name": "ipython",
    "version": 3
   },
   "file_extension": ".py",
   "mimetype": "text/x-python",
   "name": "python",
   "nbconvert_exporter": "python",
   "pygments_lexer": "ipython3",
   "version": "3.7.4"
  }
 },
 "nbformat": 4,
 "nbformat_minor": 2
}
