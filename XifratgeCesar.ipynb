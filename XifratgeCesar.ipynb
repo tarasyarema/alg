{
 "cells": [
  {
   "cell_type": "markdown",
   "metadata": {},
   "source": [
    "# <span class=\"tema\">(Text)</span> Xifratge César"
   ]
  },
  {
   "cell_type": "markdown",
   "metadata": {},
   "source": [
    "## Introducció\n",
    "El xifratge del Cèsar és un xifratge simple de substitució de  lletres que consisteix en canviar cada lletra d’un missatge per la lletra que es troba un cert nombre $n$ de posicions més enllà a l’alfabet. Aquesta variable $n$ és la clau de xifratge. Per exemple, si  $n=3$, el substitut de la ``a`` és la ``d``. \n",
    "\n",
    "El missatge original es pot recuperar fent servir el codi al revés (a l’exemple, faríem servir  $n=-3$ per a desxifrar).\n",
    "\n",
    "Pots suposar que el text està escrit en anglès, sense accents ni ç ... només cal xifrar les lletres, cap altre caràcter.\n",
    "\n",
    "\n",
    "## Conceptualització problema\n",
    "\n",
    "1. Com sabem si un caràcter és una lletra a Python?\n",
    "\n",
    "Comprovant si `string.ascii_letters` conté dit caràcter. \n",
    "\n",
    "2. Com es representen els caràcters a l'ordinador? es representa igual z que Z?\n",
    "\n",
    "**No**.\n",
    "\n",
    "Tanmateix, els índex de `z` i `Z` a `string.ascii_letters` no coincideixen.\n",
    "Si es crida la funció `ord`, que retorna la posició dels caràcters en concret en el codi ASCII, `z` i `Z` tampoc coincideix. \n"
   ]
  },
  {
   "cell_type": "code",
   "execution_count": 1,
   "metadata": {},
   "outputs": [
    {
     "name": "stdout",
     "output_type": "stream",
     "text": [
      "False\n",
      "False\n"
     ]
    }
   ],
   "source": [
    "from string import ascii_letters\n",
    "\n",
    "print(ord(\"z\") == ord(\"Z\"))\n",
    "print(ascii_letters.index(\"z\") == ascii_letters.index(\"Z\"))"
   ]
  },
  {
   "cell_type": "markdown",
   "metadata": {},
   "source": [
    "\n",
    "3. Què passarà quan volem convertir z? se t'acudeix alguna operació matemàtica que et pugui resultar útil?\n",
    "\n",
    "Com s'explica més endavant, utilitzarem **móduls** per a poder convertir els caràcters.\n",
    "\n",
    "4. Per a cesar2 revisa els apunts de fitxers.\n",
    "\n",
    "Fet."
   ]
  },
  {
   "cell_type": "markdown",
   "metadata": {},
   "source": [
    "## Implementació, primera part\n",
    "Escriu una funció, ``cesar``, que donades una clau pel xifratge i una frase (formada per lletres i espais) per xifrar retorni la frase xifrada."
   ]
  },
  {
   "cell_type": "markdown",
   "metadata": {},
   "source": [
    "### Explicació \n",
    "\n",
    "1. Iterem sobre les lletres de la frase.\n",
    "\n",
    "\n",
    "2. Si la lletra forma part de `a-zA-Z`, prenem el seu índex (`i`) a `ascii_letters`.\n",
    "    - Canviem la lletra per `ascii_letters[(i + clau) % l]`, on `l` denota la llargada de `ascii_letters`.\n",
    "\n",
    "\n",
    "3. Sino, afagim la lletra original. "
   ]
  },
  {
   "cell_type": "code",
   "execution_count": 2,
   "metadata": {},
   "outputs": [],
   "source": [
    "from string import ascii_letters\n",
    "\n",
    "def cesar(clau, frase):\n",
    "    \"\"\"\n",
    "    Xifra una frase amb el mètode de Cesar(clau). \n",
    "    \n",
    "    Parameters\n",
    "    ----------\n",
    "        clau: int\n",
    "            Clau de Cesar\n",
    "            \n",
    "        frase: str\n",
    "            Frase a encriptar\n",
    "        \n",
    "    Returns\n",
    "    -------\n",
    "        str\n",
    "            Frase xifrada\n",
    "    \"\"\"\n",
    "    \n",
    "    return \"\".join(\n",
    "        ascii_letters[(ascii_letters.index(letter) + clau) % len(ascii_letters)]\n",
    "        if letter in ascii_letters\n",
    "        else letter\n",
    "        for letter in frase\n",
    "    )"
   ]
  },
  {
   "cell_type": "markdown",
   "metadata": {},
   "source": [
    "### Tests"
   ]
  },
  {
   "cell_type": "code",
   "execution_count": 3,
   "metadata": {},
   "outputs": [
    {
     "name": "stdout",
     "output_type": "stream",
     "text": [
      "Ran 1 test: OK.\n"
     ]
    }
   ],
   "source": [
    "key, text = 2, \"Python > C\"\n",
    "cipher = cesar(key, text)\n",
    "\n",
    "assert text == cesar(-key, cipher)\n",
    "print(\"Ran 1 test: OK.\")"
   ]
  },
  {
   "cell_type": "code",
   "execution_count": 4,
   "metadata": {},
   "outputs": [
    {
     "name": "stdout",
     "output_type": "stream",
     "text": [
      "Found cipher key: -2\n",
      "Python > C\n"
     ]
    }
   ],
   "source": [
    "for i in range(len(ascii_letters)):\n",
    "    if cesar(-i, cipher) == text:\n",
    "        print(f\"Found cipher key: {-i}\")\n",
    "        print(cesar(-i, cipher))\n",
    "        break"
   ]
  },
  {
   "cell_type": "markdown",
   "metadata": {},
   "source": [
    "## Implementació, segona part\n",
    "Baixa't la lletra d’una cançó qualsevol (per exemple, de http://www.azlyrics.com/) i copia-la a un fitxer anomenat lletra.txt. Donada la següent funció:"
   ]
  },
  {
   "cell_type": "code",
   "execution_count": 5,
   "metadata": {},
   "outputs": [
    {
     "name": "stdout",
     "output_type": "stream",
     "text": [
      "The number of characters of the file is: 1893\n"
     ]
    }
   ],
   "source": [
    "def lyrics():\n",
    "    with open(\"lletra.txt\", \"r\") as f:\n",
    "        lines = f.readlines()\n",
    "    print(f\"The number of characters of the file is: {sum([len(l) for l in lines])}\")\n",
    "\n",
    "lyrics()"
   ]
  },
  {
   "cell_type": "markdown",
   "metadata": {},
   "source": [
    "Executa-la per veure què fa, i modifica-la de manera que escrigui en un altre fitxer, lletra_cesar.txt (i no per pantalla) la cançó segons el xifratge del Cèsar amb $n=5$, fent que escrigui el nombre de línia al començament de cada línia."
   ]
  },
  {
   "cell_type": "code",
   "execution_count": 6,
   "metadata": {},
   "outputs": [
    {
     "name": "stdout",
     "output_type": "stream",
     "text": [
      "S'ha encriptat 'lletra.txt' a 'lletra_cesar.txt' correctament.\n",
      "La clau d'encriptació és: 5.\n"
     ]
    }
   ],
   "source": [
    "def cesar2(key, in_file=\"lletra.txt\", out_file=\"lletra_cesar.txt\"):\n",
    "    \"\"\"\n",
    "    Funció per a llegir un fitxer i \n",
    "    guardar el seu contingut xifrat \n",
    "    utilitzant Cesar en un altre fitxer.\n",
    "    \n",
    "    Parameters\n",
    "    ----------\n",
    "        key: int\n",
    "            Clau de Cesar\n",
    "        \n",
    "        in_file: str\n",
    "            Nom del fitxer d'entrada\n",
    "            Default: \"lletra.txt\"\n",
    "        \n",
    "        out_file: str\n",
    "            Nom del fitxer de sortida\n",
    "            Default: \"lletra_cesar.txt\"\n",
    "    \n",
    "    Returns\n",
    "    -------\n",
    "        None\n",
    "    \"\"\"\n",
    "    \n",
    "    # Llegim el fitxer a xifrar\n",
    "    with open(in_file, \"r\") as f:\n",
    "        lines = [l.strip() for l in f.readlines()]\n",
    "    \n",
    "    # Xifrem cada línia i la guardem\n",
    "    # al fitxer de sortida,\n",
    "    # afagint el número de línia\n",
    "    with open(out_file, \"w\") as f:\n",
    "        for i in range(len(lines)):\n",
    "            f.write(str(i+1) + \" \" + cesar(key, lines[i]) + \"\\n\")\n",
    "    \n",
    "    print(f\"S'ha encriptat '{in_file}' a '{out_file}' correctament.\")\n",
    "    print(f\"La clau d'encriptació és: {key}.\")\n",
    "\n",
    "cesar2(5)"
   ]
  },
  {
   "cell_type": "markdown",
   "metadata": {},
   "source": [
    "## Implementació, tercera part\n",
    "\n",
    "En aquest exercici et passaran un text i l'has de desxifrar. L'única pista que tens és que et donen dos caràcters que són la clau per desxifrar-lo.\n",
    "\n",
    "Per desxifrar-lo primer has de mirar la distància entre el codi d'aquests dos caràcters. Un cop fet això, has d'aplicar aquesta mateixa distància a totes les altres lletres del text.\n",
    "\n",
    "Per ex. caracterxifrat='d', caracteroriginal='a', tenen una distància de -3 per tant, hauràs d'aplicar aquesta mateixa distància a tot el text per desxifrar-lo. Tenint en compte que si la lletra a desxifrar és la 'r', r -3 és o.\n",
    "\n",
    "Per exemple:\n",
    "- desxifrar('d','a',\"Dtxhvw hv xq plvvdwjh vhfuhw\")  => retorna una frase amb sentit"
   ]
  },
  {
   "cell_type": "code",
   "execution_count": 7,
   "metadata": {},
   "outputs": [
    {
     "data": {
      "text/plain": [
       "'Aquest es un missatge secret'"
      ]
     },
     "execution_count": 7,
     "metadata": {},
     "output_type": "execute_result"
    }
   ],
   "source": [
    "def desxifrar(caracterxifrat, caracteroriginal, textxifrat):\n",
    "    \"\"\"\n",
    "    Funció per a desxifrar un text, \n",
    "    utilitzant la relació entre dos caràcters.\n",
    "    \n",
    "    Parameters\n",
    "    ----------\n",
    "        caracterxifrat: str\n",
    "        \n",
    "        caracteroriginal: str\n",
    "        \n",
    "        textxifrat: str\n",
    "    \n",
    "    Returns\n",
    "    -------\n",
    "        str\n",
    "            Text desxifrat\n",
    "    \"\"\"\n",
    "    \n",
    "    # Trobem la distància entre original i xifrat\n",
    "    # i utilitzem cesar() per a desxifrar\n",
    "    \n",
    "    key = ascii_letters.index(caracteroriginal) - ascii_letters.index(caracterxifrat)\n",
    "    return cesar(key, textxifrat)\n",
    "\n",
    "desxifrar(\"d\",\"a\",\"Dtxhvw hv xq plvvdwjh vhfuhw\")"
   ]
  },
  {
   "cell_type": "markdown",
   "metadata": {
    "slideshow": {
     "slide_type": "notes"
    }
   },
   "source": [
    "### Avaluació (0 a 10 punts)\n",
    "\n",
    "\n",
    "Concepte | Puntuació \n",
    "--- | --- \n",
    "Solució correcta cesar | **5** punts\n",
    "Solució correcta cesar2 | **+3** punts\n",
    "Solució correcta desxifrar | **+1** punt\n",
    "Codi comentat i seguint estàndar PEP8 | **+1** punt \n",
    "S'ofereix una funció adicional per mostrar la solució elegantment| **+0.5** punts \n",
    "L'algorisme falla repetidament | **-7** punts \n",
    "L'algorisme falla en algun cas excepcional | **-2** punt\n",
    "Codi, noms de variables, solució o comentaris no prou clars | **-1** punt\n",
    "La funció o els paràmetres no s'anomenen com a l'exemple | **-1** punt"
   ]
  }
 ],
 "metadata": {
  "kernelspec": {
   "display_name": "Python 3",
   "language": "python",
   "name": "python3"
  },
  "language_info": {
   "codemirror_mode": {
    "name": "ipython",
    "version": 3
   },
   "file_extension": ".py",
   "mimetype": "text/x-python",
   "name": "python",
   "nbconvert_exporter": "python",
   "pygments_lexer": "ipython3",
   "version": "3.7.4"
  }
 },
 "nbformat": 4,
 "nbformat_minor": 2
}
