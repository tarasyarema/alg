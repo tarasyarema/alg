{
 "cells": [
  {
   "cell_type": "markdown",
   "metadata": {},
   "source": [
    "# <span class=\"tema\">(Text)</span> Xifratge César"
   ]
  },
  {
   "cell_type": "markdown",
   "metadata": {},
   "source": [
    "## Introducció\n",
    "El xifratge del Cèsar és un xifratge simple de substitució de  lletres que consisteix en canviar cada lletra d’un missatge per la lletra que es troba un cert nombre $n$ de posicions més enllà a l’alfabet. Aquesta variable $n$ és la clau de xifratge. Per exemple, si  $n=3$, el substitut de la ``a`` és la ``d``. \n",
    "\n",
    "El missatge original es pot recuperar fent servir el codi al revés (a l’exemple, faríem servir  $n=-3$ per a desxifrar).\n",
    "\n",
    "Pots suposar que el text està escrit en anglès, sense accents ni ç ... només cal xifrar les lletres, cap altre caràcter.\n",
    "\n",
    "\n",
    "## Conceptualització problema\n",
    "\n",
    "1. Com sabem si un caràcter és una lletra a Python?\n",
    "1. Com es representen els caràcters a l'ordinador? es representa igual z que Z?\n",
    "1. Què passarà quan volem convertir z? se t'acudeix alguna operació matemàtica que et pugui resultar útil?\n",
    "1. Per a cesar2 revisa els apunts de fitxers.\n",
    "\n",
    "\n",
    "## Implementació, primera part\n",
    "Escriu una funció, ``cesar``, que donades una clau pel xifratge i una frase (formada per lletres i espais) per xifrar retorni la frase xifrada."
   ]
  },
  {
   "cell_type": "code",
   "execution_count": null,
   "metadata": {
    "collapsed": true
   },
   "outputs": [],
   "source": [
    "# Escriu la teva solució seguint el patró donat\n",
    "def cesar(clau, frase):\n",
    "    pass\n",
    "    return fraseXifrada"
   ]
  },
  {
   "cell_type": "markdown",
   "metadata": {},
   "source": [
    "## Implementació, segona part\n",
    "Baixa't la lletra d’una cançó qualsevol (per exemple, de http://www.azlyrics.com/) i copia-la a un fitxer anomenat lletra.txt. Donada la següent funció:"
   ]
  },
  {
   "cell_type": "code",
   "execution_count": null,
   "metadata": {},
   "outputs": [],
   "source": [
    "def lyrics():\n",
    "    f = open(\"lletra.txt\", \"r\")\n",
    "    text = f.readlines()\n",
    "    f.close()\n",
    "    for line in text:\n",
    "            print(line, end=\"\")\n",
    "    print\n",
    "\n",
    "lyrics()"
   ]
  },
  {
   "cell_type": "markdown",
   "metadata": {},
   "source": [
    "Executa-la per veure què fa, i modifica-la de manera que escrigui en un altre fitxer, lletra_cesar.txt (i no per pantalla) la cançó segons el xifratge del Cèsar amb  n=5 , fent que escrigui el nombre de línia al començament de cada línia."
   ]
  },
  {
   "cell_type": "code",
   "execution_count": null,
   "metadata": {},
   "outputs": [],
   "source": [
    "# Escriu la teva solució seguint el patró donat\n",
    "def cesar2():\n",
    "    pass"
   ]
  },
  {
   "cell_type": "markdown",
   "metadata": {},
   "source": [
    "## Implementació, tercera part\n",
    "\n",
    "En aquest exercici et passaran un text i l'has de desxifrar. L'única pista que tens és que et donen dos caràcters que són la clau per desxifrar-lo.\n",
    "\n",
    "Per desxifrar-lo primer has de mirar la distància entre el codi d'aquests dos caràcters. Un cop fet això, has d'aplicar aquesta mateixa distància a totes les altres lletres del text.\n",
    "\n",
    "Per ex. caracterxifrat='d', caracteroriginal='a', tenen una distància de -3 per tant, hauràs d'aplicar aquesta mateixa distància a tot el text per desxifrar-lo. Tenint en compte que si la lletra a desxifrar és la 'r', r -3 és o.\n",
    "\n",
    "Per exemple:\n",
    "- desxifrar('d','a',\"Dtxhvw hv xq plvvdwjh vhfuhw\")  => retorna una frase amb sentit"
   ]
  },
  {
   "cell_type": "code",
   "execution_count": null,
   "metadata": {},
   "outputs": [],
   "source": [
    "# Escriu la teva solució seguint el patró donat\n",
    "\n",
    "def desxifrar(caracterxifrat, caracteroriginal, textxifrat):\n",
    "    pass\n",
    "    return textDesxifrat"
   ]
  },
  {
   "cell_type": "markdown",
   "metadata": {},
   "source": [
    "### Avaluació (0 a 10 punts)\n",
    "\n",
    "\n",
    "Concepte | Puntuació \n",
    "--- | --- \n",
    "Solució correcta cesar | **5** punts\n",
    "Solució correcta cesar2 | **+3** punts\n",
    "Solució correcta desxifrar | **+1** punt\n",
    "Codi comentat i seguint estàndar PEP8 | **+1** punt \n",
    "S'ofereix una funció adicional per mostrar la solució elegantment| **+0.5** punts \n",
    "L'algorisme falla repetidament | **-7** punts \n",
    "L'algorisme falla en algun cas excepcional | **-2** punt\n",
    "Codi, noms de variables, solució o comentaris no prou clars | **-1** punt\n",
    "La funció o els paràmetres no s'anomenen com a l'exemple | **-1** punt"
   ]
  }
 ],
 "metadata": {
  "kernelspec": {
   "display_name": "Python 3",
   "language": "python",
   "name": "python3"
  },
  "language_info": {
   "codemirror_mode": {
    "name": "ipython",
    "version": 3
   },
   "file_extension": ".py",
   "mimetype": "text/x-python",
   "name": "python",
   "nbconvert_exporter": "python",
   "pygments_lexer": "ipython3",
   "version": "3.6.8"
  }
 },
 "nbformat": 4,
 "nbformat_minor": 2
}
