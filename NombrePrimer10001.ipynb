{
 "cells": [
  {
   "cell_type": "markdown",
   "metadata": {
    "colab_type": "text",
    "id": "aKw0NywJXwU3"
   },
   "source": [
    "# <span class=\"tema\">(Numèrics)</span> El nombre primer que ocupa la posició 10001"
   ]
  },
  {
   "cell_type": "markdown",
   "metadata": {
    "colab_type": "text",
    "id": "NA0OTp6sXwU3"
   },
   "source": [
    "<p style=\"font-family:Arial;font-size:1em\">\n",
    "Si llistem els primers 6 nombres primers: 2, 3, 5, 7, 11, i 13, podem veure que el 6è primer és el 13. Quin és el primer que ocupa la posició 10001?\n",
    "</p>"
   ]
  },
  {
   "cell_type": "markdown",
   "metadata": {
    "colab_type": "text",
    "id": "Ni44Ihx3XwU4"
   },
   "source": [
    "### Conceptualització problema\n",
    "\n",
    "1. Quin algorisme hem d'aplicar? Revisa els algorismes vistos a teoria\n",
    "1. Explica els passos que fa l'algorisme en el cas primer(6)"
   ]
  },
  {
   "cell_type": "markdown",
   "metadata": {
    "colab_type": "text",
    "id": "Rr581aV1XwU4"
   },
   "source": [
    "### Testeig\n",
    "\n",
    "Defineix aquí diversos exemples d'execucions que cobreixin els casos que pot presentar l'algorisme\n",
    "\n",
    "Exemple:\n",
    "- primer(6)          => ha de retornar 13\n",
    "\n",
    "### Implementació"
   ]
  },
  {
   "cell_type": "code",
   "execution_count": 177,
   "metadata": {
    "colab": {},
    "colab_type": "code",
    "id": "aKBT0ODXXwU6"
   },
   "outputs": [],
   "source": [
    "# Posar aquí el codi de la funció seguint el patró donat\n",
    "from time import time\n",
    "from math import sqrt, log\n",
    "\n",
    "def memoize(f):\n",
    "    memo = {}\n",
    "    \n",
    "    def helper(x):\n",
    "        if x not in memo:            \n",
    "            memo[x] = f(x)\n",
    "    \n",
    "        return memo[x]\n",
    "    \n",
    "    return helper\n",
    "\n",
    "@memoize\n",
    "def check_prime(num):\n",
    "    factor = 2\n",
    "    while (factor * factor <= num):\n",
    "        if num % factor == 0:\n",
    "             return False\n",
    "        factor +=1\n",
    "    return True"
   ]
  },
  {
   "cell_type": "code",
   "execution_count": 189,
   "metadata": {},
   "outputs": [],
   "source": [
    "from functools import lru_cache\n",
    "\n",
    "@lru_cache(maxsize=None)\n",
    "def primer(n):\n",
    "    if n == 1:\n",
    "        return 2\n",
    "    \n",
    "    count, num = 1, 1\n",
    "    \n",
    "    while count < n:\n",
    "        num += 2 \n",
    "        \n",
    "        if check_prime(num):\n",
    "            count += 1\n",
    "    \n",
    "    return num"
   ]
  },
  {
   "cell_type": "code",
   "execution_count": 201,
   "metadata": {},
   "outputs": [],
   "source": [
    "def pretty_primer(n):\n",
    "    return f\"El {n}-èssim primer és {primer(n)}.\""
   ]
  },
  {
   "cell_type": "code",
   "execution_count": 210,
   "metadata": {},
   "outputs": [
    {
     "data": {
      "text/plain": [
       "'El 121232-èssim primer és 1601447.'"
      ]
     },
     "execution_count": 210,
     "metadata": {},
     "output_type": "execute_result"
    }
   ],
   "source": [
    "pretty_primer(121232)"
   ]
  },
  {
   "cell_type": "markdown",
   "metadata": {
    "colab_type": "text",
    "id": "vJCmdiKdXwU8"
   },
   "source": [
    "### Avaluació (0 a 10 punts)\n",
    "\n",
    "\n",
    "Concepte | Puntuació \n",
    "--- | --- \n",
    "Solució correcta eficient | **8** punts\n",
    "Ús correcte algorismes teoria | **+1** punt\n",
    "Solució correcta ineficient | **3** punts \n",
    "Codi comentat i seguint estàndar PEP8 | **+1** punt \n",
    "S'ofereix una funció adicional per mostrar la solució elegantment| **+0.5** punts \n",
    "L'algorisme falla repetidament | **-7** punts \n",
    "L'algorisme falla en algun cas excepcional | **-2** punt\n",
    "No es donen prous exemples d'execució | **-1** punt\n",
    "Codi, noms de variables, solució o comentaris no prou clars | **-1** punt\n",
    "La funció o els paràmetres no s'anomenen com a l'exemple | **-1** punt"
   ]
  },
  {
   "cell_type": "code",
   "execution_count": null,
   "metadata": {},
   "outputs": [],
   "source": []
  }
 ],
 "metadata": {
  "colab": {
   "collapsed_sections": [],
   "name": "NombrePrimer10001.ipynb",
   "provenance": []
  },
  "kernelspec": {
   "display_name": "Python 3",
   "language": "python",
   "name": "python3"
  },
  "language_info": {
   "codemirror_mode": {
    "name": "ipython",
    "version": 3
   },
   "file_extension": ".py",
   "mimetype": "text/x-python",
   "name": "python",
   "nbconvert_exporter": "python",
   "pygments_lexer": "ipython3",
   "version": "3.6.8"
  }
 },
 "nbformat": 4,
 "nbformat_minor": 1
}
