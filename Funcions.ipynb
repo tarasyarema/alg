{
 "cells": [
  {
   "cell_type": "markdown",
   "metadata": {
    "colab_type": "text",
    "id": "SINxvKBQeSaH"
   },
   "source": [
    "<div id=\"capcalera\">\n",
    "<p><a href=\"https://colab.research.google.com/github/algorismica2019/problemes/blob/master/Funcions.ipynb\"><img style=\"margin:-10px 10px 20px 0\" width=\"150px\" align=\"right\" src=\"https://raw.githubusercontent.com/algorismica2019/problemes/master/assets/colab-badge.png?raw=1\" alt=\"Obrir a Colab\" title=\"Obrir i executar a Google Colaboratory\"></a></p>\n",
    "<p style=\"clear:both\"><img align='left' width=\"300px\" style=\"padding-right:10px;float=left\" src=\"https://raw.githubusercontent.com/algorismica2019/problemes/master/assets/al-khwarizmi.png\">Aquest notebook forma part dels continguts teòrics dels problemes de l'assignatura d'<strong>Algorísmica</strong> del Grau d'Enginyeria Informàtica a la <a href=\"https://mat.ub.edu\">Facultat de Matemàtiques i Informàtica</a> de la <a href=\"https://www.ub.edu\">Universitat de Barcelona</a> impartida per <em>Jordi Vitrià</em> i <em>Mireia Ribera</em></p>\n",
    "\n",
    "<p>Els problemes s'ofereixen sota llicència <a href=\"https://creativecommons.org/licenses/by-nc-nd/3.0/us/legalcode\">CC-BY-NC-ND license</a>, i el codi sota <a href=\"https://opensource.org/licenses/MIT\">Llicència MIT</a>.</p>\n",
    "\n",
    "<p style=\"clear:both;text-align:center\">&lt; <a href=\"Teoria.ipynb\">Explicacions teòriques</a> | <a href=\"LListatProblemes.ipynb\">LListat de problemes</a> | <a href=\"Variables.ipynb\">Variables</a> &gt; </p>\n",
    "</div>\n",
    "\n",
    "</div>"
   ]
  },
  {
   "cell_type": "markdown",
   "metadata": {
    "colab_type": "text",
    "id": "DInQu7z3eSaK"
   },
   "source": [
    "# <span class=\"tema\">( Continguts teòrics)</span> Funcions"
   ]
  },
  {
   "cell_type": "markdown",
   "metadata": {
    "colab_type": "text",
    "id": "0xp4WX0ZeSaP"
   },
   "source": [
    "### Documentació Python de referència\n",
    "\n",
    "Podeu trobar més recursos sobre recursió a:\n",
    "    \n",
    "Alguns exemples mostrats com un arbre\n",
    "https://visualgo.net/en/recursion\n",
    "\n",
    "\n",
    "Curs Think like a computer scientist\n",
    "explicació recursivitat\n",
    "http://interactivepython.org/courselib/static/thinkcspy/IntroRecursion/CalculatingtheSumofaListofNumbers.html"
   ]
  },
  {
   "cell_type": "markdown",
   "metadata": {
    "colab_type": "text",
    "id": "64IwUS06eSaQ"
   },
   "source": [
    "## Python i Jupyter Notebooks\n",
    "\n",
    "Si escrius la instrucció  ``print (“Hola Mon!”)`` a una cel·la i l'executes, veuràs el resultat a la següent cel.la ``Hola Mon!``.\n",
    "\n",
    "Per executar la cel·la, (1) selecciona-la amb el ratolí, (2) executa-la fent servir la combinació de tecles ``Mayús-Enter`` o prement el botó ``Run`` a la barra de botons superior.\n",
    "\n",
    "Fixa't que hi ha dos formats de cel.les, de codi, per executar codi, i de markdown, per posar explicacions.\n",
    "\n",
    "Explora la resta de botons, que et permeten afegir una cel·la (botó +), eliminar una cel·la (botó tisores), copiar una cel·la (botó dos documents), canviar el format d'una cel·la, etc."
   ]
  },
  {
   "cell_type": "code",
   "execution_count": 1,
   "metadata": {
    "colab": {},
    "colab_type": "code",
    "id": "XdOHErWMeSaR"
   },
   "outputs": [
    {
     "name": "stdout",
     "output_type": "stream",
     "text": [
      "Hola món\n"
     ]
    }
   ],
   "source": [
    "print(\"Hola món\")"
   ]
  },
  {
   "cell_type": "markdown",
   "metadata": {
    "colab_type": "text",
    "id": "oLiBlzjAeSaV"
   },
   "source": [
    "D’aquesta manera has interactuat amb Python directament, sense escriure el programa en un fitxer, i has obtingut una resposta. Si el que escrius no és correcte, Python no ho entén i rebràs un missatge d’error:"
   ]
  },
  {
   "cell_type": "code",
   "execution_count": 2,
   "metadata": {
    "colab": {},
    "colab_type": "code",
    "id": "coe43N3aeSaW"
   },
   "outputs": [
    {
     "name": "stdout",
     "output_type": "stream",
     "text": [
      "Hola\n"
     ]
    }
   ],
   "source": [
    "print(\"Hola\")"
   ]
  },
  {
   "cell_type": "markdown",
   "metadata": {
    "colab_type": "text",
    "id": "1jb7Dxo9eSac"
   },
   "source": [
    "## Funcions\n",
    "\n",
    "Quan volem fer un seguit d'instruccions repetidament, les posem dins d'una funció. El codi d'una funció no s'executarà fins que la cridem explícitament. Les funcions comencen amb def, el nom de la funció i parèntesi, seguit de :. Les instruccions de dins la funció queden indentades quatre caràcters a la dreta com a mínim per indicar que pertanyen a la funció."
   ]
  },
  {
   "cell_type": "code",
   "execution_count": 3,
   "metadata": {
    "colab": {},
    "colab_type": "code",
    "id": "dFW4Eq0feSae"
   },
   "outputs": [],
   "source": [
    "def funcio1():\n",
    "    print(\"hola\")\n",
    "    \n",
    "def funcio2():\n",
    "    print(\"a\")"
   ]
  },
  {
   "cell_type": "code",
   "execution_count": 4,
   "metadata": {
    "colab": {},
    "colab_type": "code",
    "id": "DGIy9R-geSaj",
    "outputId": "da66210d-99c1-4042-9c96-7704fc8982d4"
   },
   "outputs": [
    {
     "name": "stdout",
     "output_type": "stream",
     "text": [
      "hola\n",
      "a\n",
      "hola\n"
     ]
    }
   ],
   "source": [
    "funcio1()\n",
    "funcio2()\n",
    "funcio1()"
   ]
  },
  {
   "cell_type": "markdown",
   "metadata": {
    "colab_type": "text",
    "id": "rpcKVDuQeSao"
   },
   "source": [
    "### Paràmetres: \n",
    "\n",
    "Les funcions amb paràmetres permeten que els indiquem el valor d'algunes variables en el moment de cridar-les. Veiem un exemple d'una funció amb paràmetres i una sense"
   ]
  },
  {
   "cell_type": "code",
   "execution_count": 5,
   "metadata": {
    "colab": {},
    "colab_type": "code",
    "id": "WoTNrgQoeSar"
   },
   "outputs": [],
   "source": [
    "def suma():\n",
    "    var1 = 5\n",
    "    var2 = 3\n",
    "    suma_nombres = var1 + var2\n",
    "    print(suma_nombres)"
   ]
  },
  {
   "cell_type": "markdown",
   "metadata": {
    "colab_type": "text",
    "id": "UOZLCHRxeSaw"
   },
   "source": [
    "Amb aquesta funció només puc sumar els valors 5 i 3, que són els que estan escrits en el codi."
   ]
  },
  {
   "cell_type": "code",
   "execution_count": 6,
   "metadata": {
    "colab": {},
    "colab_type": "code",
    "id": "TrGScXpMeSax"
   },
   "outputs": [],
   "source": [
    "def sumabis (var1, var2):\n",
    "    suma_nombres = var1 + var2\n",
    "    print(suma_nombres)"
   ]
  },
  {
   "cell_type": "code",
   "execution_count": 7,
   "metadata": {
    "colab": {},
    "colab_type": "code",
    "id": "AuAobO5deSa0",
    "outputId": "b5b2af05-a089-4140-f258-d84c84a15beb"
   },
   "outputs": [
    {
     "name": "stdout",
     "output_type": "stream",
     "text": [
      "8\n",
      "3\n"
     ]
    }
   ],
   "source": [
    "sumabis(3, 5)\n",
    "sumabis(1, 2)"
   ]
  },
  {
   "cell_type": "markdown",
   "metadata": {
    "colab_type": "text",
    "id": "4-RZ0xF9eSa3"
   },
   "source": [
    "Amb aquesta funció puc sumar qualssevol valors perquè els indico amb els paràmetres."
   ]
  },
  {
   "cell_type": "markdown",
   "metadata": {
    "colab_type": "text",
    "id": "N2L86mWoeSa4"
   },
   "source": [
    "### <span class=\"exercici\">Exercici 1:  Fes una funció amb dos paràmetres i en retorni la divisió</span>"
   ]
  },
  {
   "cell_type": "markdown",
   "metadata": {
    "colab_type": "text",
    "id": "0_plBnFBeSa5"
   },
   "source": [
    "### Descomposició en funcions\n",
    "\n",
    "En cursos més avançats realitzareu funcions força complexes que consistiran en molts passos. I en l'entorn laboral sovint aquestes funcions complexes repeteixen codi ja fet.\n",
    "\n",
    "Per tal de facilitar la reutilització del codi, i facilitar el manteniment i llegibilitat, es recomana descomposar les funcions en parts petites amb significat.\n",
    "\n",
    "Quan us enfronteu amb un problema, heu de mirar d'identificar aquelles parts del codi que resolen un problema i separar-les del codi principal.\n",
    "Finalment, hi haurà una funció principal, que anirà cridant aquestes funcions més petites de forma ordenada, per resoldre el problema gran."
   ]
  },
  {
   "cell_type": "markdown",
   "metadata": {
    "colab_type": "text",
    "id": "1jKJ6nUjeSa6"
   },
   "source": [
    "### <span class=\"exercici\">Exercici 2:  Escriu una funció a la que li passis el teu nom i l'edat i et saludi dient-te quants anys et falten per arribar a 100. Descomposa la funció en dos, i fes-ne una que donat un enter et digui quant falta per a 100.\n",
    "\n",
    "Per exemple: salutacio(\"Aina\", 25)  => Hola Aina, et falten 75 anys per arribar a 100.</span>"
   ]
  },
  {
   "cell_type": "code",
   "execution_count": 8,
   "metadata": {
    "colab": {},
    "colab_type": "code",
    "id": "hsIUXkvjeSa7",
    "outputId": "e8a7e724-5a45-4920-824a-2dbb3cab8514"
   },
   "outputs": [
    {
     "name": "stdout",
     "output_type": "stream",
     "text": [
      "L\n",
      "122\n"
     ]
    }
   ],
   "source": [
    "# Exemple\n",
    "\n",
    "print(chr(76))\n",
    "print(ord('z'))"
   ]
  },
  {
   "cell_type": "markdown",
   "metadata": {
    "colab_type": "text",
    "id": "otf4CSRXeSa_"
   },
   "source": [
    "## Recursió\n",
    "\n",
    "La recursió consisteix en què un programa es crida a si mateix. Un programa recursiu ben fet ha de complir 2 condicions:\n",
    "\n",
    "- ha d'haver-hi un o més casos base: són condicions de les dades que es resolen directament, sense que calgui una nova crida al programa\n",
    "- a cada crida recursiva ens apropem a un dels casos base: ja sigui perquè es decrementa una variable, perquè es redueix una llista...\n",
    "\n",
    "\n",
    "D'una manera simplificada podríem dir que els algorismes recursius segueixen el patró:\n",
    "\n",
    "    def recursiu(x):\n",
    "        if x=cas_final:\n",
    "            return VALOR\n",
    "        else:\n",
    "            return CRIDA_RECURSIVA(x reduïda)+Calculs\n",
    "            \n",
    "\n",
    "```python\n",
    "Exemple\n",
    "def imprimirLlistaRec(num):\n",
    "    if (num == 0):\n",
    "        print(num)\n",
    "        return 0\n",
    "    else:\n",
    "        print(num)\n",
    "        imprimirLlistaRec(num-1)\n",
    "\n",
    "imprimirLlistaRec(5)\n",
    "5\n",
    "4\n",
    "3\n",
    "2\n",
    "1\n",
    "0\n",
    "```\n",
    "\n",
    "- A la primera execució del programa num valia 5, per tant no és un cas base, es fa el print i es fa una crida recursiva amb 4.\n",
    "- A la segona execució val 4, s'imprimeix i es fa crida amb 3.\n",
    "- A la tercera val 3, s'imprimeix i es fa crida amb 2.\n",
    "- A la quarta val 2, s'imprimeix i es fa crida amb 1.\n",
    "- A la cinquena val 1, s'imprimeix i es fa crida amb 0.\n",
    "- A la sisena val 0, som al cas base!, s'imprimeix i acaba.\n",
    "\n",
    "A vegades dins del programa no es fa una crida recursiva sinó dues o més. També pot variar com s'alteren les variables a cada crida, però sempre ens hem d'anar apropant al cas base.\n",
    "\n",
    "Sovint farem un programa principal que faci un preprocés de les dades, cridi al programa recursiu, i després faci un postprocés.\n",
    "\n",
    "```python\n",
    "\n",
    "def imprimirLlista(num):\n",
    "    print(f\"Ara mostrarem els nombres de {num} a 0 de manera decreixent\")\n",
    "    imprimirLlistaRec(num)\n",
    "    print(\"I això és tot.\")\n",
    "    \n",
    "imprimirLlista(3)\n",
    "\n",
    "\n",
    "Ara mostrarem els nombres de 3 a 0 de manera decreixent\n",
    "3\n",
    "2\n",
    "1\n",
    "0\n",
    "I això és tot.\n",
    "```"
   ]
  },
  {
   "cell_type": "markdown",
   "metadata": {
    "colab_type": "text",
    "id": "c-JCFr26eSa_"
   },
   "source": [
    "Per tal de veure el que passa en una recursió, podem usar el mode de visualització de Code Skulptor, una eina que executa Python online:\n",
    "\n",
    "http://www.codeskulptor.org/viz/index.html  \n",
    "(heu de clicar la clau anglesa i executar el programa pas a pas per veure cada crida)\n",
    "\n",
    "El provarem amb la següent funció:"
   ]
  },
  {
   "cell_type": "code",
   "execution_count": 9,
   "metadata": {
    "colab": {},
    "colab_type": "code",
    "id": "RhpRsz9WeSbB"
   },
   "outputs": [],
   "source": [
    "# Implementació eficient del càlcul de la potència\n",
    "def potenciarec(x, y):\n",
    "    if y == 0:\n",
    "        return 1\n",
    "    if y == 1:\n",
    "        return x\n",
    "    potencia = potenciarec(x, y // 2)\n",
    "    if (y % 2 == 0):\n",
    "        return potencia * potencia\n",
    "    else:\n",
    "        return potencia * potencia * x \n",
    "    \n",
    "# Abans d'executar-lo penseu quines crides farà per potenciarec(2,10)"
   ]
  },
  {
   "cell_type": "code",
   "execution_count": 10,
   "metadata": {
    "colab": {},
    "colab_type": "code",
    "id": "mdSCtI_NeSbD",
    "outputId": "81faa7f3-e100-4ed1-ac18-0f8f0bd12848"
   },
   "outputs": [
    {
     "name": "stdout",
     "output_type": "stream",
     "text": [
      "25\n"
     ]
    }
   ],
   "source": [
    "# Un altre exemple de programa recursiu \n",
    "# font: http://interactivepython.org/courselib/static/thinkcspy/IntroRecursion/CalculatingtheSumofaListofNumbers.html\n",
    "def listsum(numList):\n",
    "    if len(numList) == 1:\n",
    "        return numList[0]\n",
    "    else:\n",
    "        return numList[0] + listsum(numList[1:])\n",
    "\n",
    "print(listsum([1,3,5,7,9]))"
   ]
  },
  {
   "cell_type": "markdown",
   "metadata": {
    "colab_type": "text",
    "id": "rdVUMIFjeSbI"
   },
   "source": [
    "## Estil de programació\n",
    "\n",
    "Els programes sovint es comparteixen entre diferents programadors o es modifiquen al cap d'un temps.\n",
    "\n",
    "Per això és important que estiguin escrits de forma clara i seguint unes convencions d'estil per fer-los més llegibles.\n",
    "\n",
    "Cada llenguatge sol tenir unes directrius d'estil. A Python s'usen les directrius [PEP8](https://www.python.org/dev/peps/pep-0008/)\n",
    "\n",
    "Spyder ens ajuda a seguir aquestes directrius si configurem l'editor per a què ens avisi. Això es fa amb ``Herramientas - Preferencias - Editor - Análisis de estilo del código en el Editor``.\n",
    "\n",
    "Amb això Spyder ja ens avisarà si no seguim les convencions bàsiques de PEP8.\n",
    "\n",
    "### Comentaris\n",
    "\n",
    "Inicieu les funcions amb unes línies de comentaris delimitades per \"\"\" que indiquin l'objectiu de la funció. Incloeu una línia de comentari pels paràmetres, i una línia pel què retorna.\n",
    "\n",
    "Incloeu comentaris breus addicionals entre línies amb # per explicar algun detall del codi en particular que no quedi prou clar.\n",
    "\n",
    "```python\n",
    "# Exemple\n",
    "\n",
    "def primerDarrer8(llista):\n",
    "    \"\"\"\n",
    "    Aquesta funció, donada una llista d’enters,\n",
    "    retorna True si 8 és el primer o el darrer element de la llista,\n",
    "    retorna False altrament\n",
    "    :param llista una llista d'enters\n",
    "    :return: True si 8 és a l'inici o final, False altrament\n",
    "    \"\"\"\n",
    "    if llista[0] == 8 or llista[-1] == 8:  # Amb -1 comencem pel darrera\n",
    "        return True\n",
    "    else:\n",
    "        return False\n",
    "```\t\t\n",
    "\n",
    "\n",
    "### Noms de funcions i de variables\n",
    "Useu noms en minúscules per les funcions i variables. Si són compostes per dues o més paraules, inicieu la segona i següents amb majúscules.\n",
    "\n",
    "```python\n",
    "a = 5\n",
    "meuCotxe = \"Toyota\"\n",
    "valorAproximat = 3.567\n",
    "def calculSuma(a,b):\n",
    "    pass\n",
    "```\n",
    "Ara bé, per a les constants useu majúscules\n",
    "```python\n",
    "MAXIM = 9999999\n",
    "```\n",
    "\n",
    "### Identació\n",
    "Useu 4 espais per marcar els diferents nivells de blocs.\n",
    "\n",
    "Si el codi d'una funció ocupa dues línies, identeu-lo per a què siguin consistents.\n",
    "```python\n",
    "def funcio():\n",
    "    print(\"les instruccions comencen 4 espais a la dreta\")\n",
    "    for i in range(2):\n",
    "        print(\"per cada nou bloc, 4 espais més\")\n",
    "\t\tprint(\"pero si vull posar moltes coses en un print\",\n",
    "              \"i no m'hi caben, idento per a què sigui\",\n",
    "              \"consistent\")\n",
    "```\n",
    "\n",
    "### Llargada de les línies\n",
    "Una línia de codi ha d'ocupar com a màxim 79 caràcters.\n",
    "Si una línia no hi cap en 79 caràcters, la puc continuar amb el caràcter \\\n",
    "\n",
    "```python\n",
    "with open('/path/to/some/file/you/want/to/read') as file_1, \\\n",
    "     open('/path/to/some/file/being/written', 'w') as file_2:\n",
    "    pass\n",
    "```\n",
    " El caràcter \\ no cal si la continuació és dintre el mateix parèntesi que la línia anterior\n",
    "\n",
    "```python\n",
    "print('a', 'b', 'c', 'd', 'e', 'f', 'g', 'h', 'i', 'j', 'k', 'l', 'm', 'n', 'o', 'p', 'q', 'r',\n",
    "      's', 't', 'u', 'v', 'x', 'y', 'z')\n",
    "```\n",
    "\n",
    "### Línies en blanc\n",
    "Les funcions han d'anar precedides i seguides de dues línies en blanc.\n",
    "\n",
    "### Espais en blanc\n",
    "Deixeu espais en blanc davant i darrera dels operadors. Deixeu un espai en blanc darrera de la coma. No poseu espais en blanc al final de les línies de codi. Acabeu sempre les funcions amb un salt de línia.\n",
    "\n",
    "```python\n",
    "a = b + c\n",
    "llista = ['a', 'b', 'c']\n",
    "```\n",
    "\n",
    "### Import\n",
    "Posar cada import en una línia diferent. Situar-los al principi de tot.\n",
    "\n",
    "```python\n",
    "import math\n",
    "import string\n",
    "\n",
    "\n",
    "def funcio():\n",
    "    pass\n",
    "```"
   ]
  },
  {
   "cell_type": "markdown",
   "metadata": {
    "colab_type": "text",
    "id": "ZXlVoyVheSbK"
   },
   "source": [
    "Per a **frikis**: ara que ja saps Python pots memoritzar el *mantra* de Python, executa la següent línia."
   ]
  },
  {
   "cell_type": "code",
   "execution_count": 11,
   "metadata": {
    "colab": {},
    "colab_type": "code",
    "id": "hedZZjMFeSbM"
   },
   "outputs": [
    {
     "name": "stdout",
     "output_type": "stream",
     "text": [
      "The Zen of Python, by Tim Peters\n",
      "\n",
      "Beautiful is better than ugly.\n",
      "Explicit is better than implicit.\n",
      "Simple is better than complex.\n",
      "Complex is better than complicated.\n",
      "Flat is better than nested.\n",
      "Sparse is better than dense.\n",
      "Readability counts.\n",
      "Special cases aren't special enough to break the rules.\n",
      "Although practicality beats purity.\n",
      "Errors should never pass silently.\n",
      "Unless explicitly silenced.\n",
      "In the face of ambiguity, refuse the temptation to guess.\n",
      "There should be one-- and preferably only one --obvious way to do it.\n",
      "Although that way may not be obvious at first unless you're Dutch.\n",
      "Now is better than never.\n",
      "Although never is often better than *right* now.\n",
      "If the implementation is hard to explain, it's a bad idea.\n",
      "If the implementation is easy to explain, it may be a good idea.\n",
      "Namespaces are one honking great idea -- let's do more of those!\n"
     ]
    }
   ],
   "source": [
    "import this"
   ]
  },
  {
   "cell_type": "markdown",
   "metadata": {
    "colab_type": "text",
    "id": "IfHisPL1eSbR"
   },
   "source": [
    "### <span class=\"exercici\"> Exercici 3. Reescriu les solucions d'aquest notebook amb un bon estil de programació.</span>"
   ]
  },
  {
   "cell_type": "code",
   "execution_count": 12,
   "metadata": {
    "colab": {},
    "colab_type": "code",
    "id": "6s9VElvpeSbS"
   },
   "outputs": [],
   "source": [
    "# Solució a l'exercici 1\n",
    "def division(a, b):\n",
    "    \"\"\"\n",
    "    Funció que retorna la divisió dos números.\n",
    "    Fa un raise d'una excepció si no pot realitzar la divisió.\n",
    "    \n",
    "    :param a: Divident, tipus: float, int\n",
    "    :param b: Divisor, tipus: float, int\n",
    "    :return: La divisió a / b, tipus: float\n",
    "    \"\"\"\n",
    "    \n",
    "    try:\n",
    "        return float(a) / float(b) \n",
    "    except Exception as e:\n",
    "        raise Exception(\"Could not divide {} / {}. Raised Exception: {}\"\n",
    "                       .format(a, b, e))"
   ]
  },
  {
   "cell_type": "code",
   "execution_count": 13,
   "metadata": {},
   "outputs": [
    {
     "name": "stdout",
     "output_type": "stream",
     "text": [
      "division(1, 2) = 0.5\n",
      "division(5.0, 2.5) = 2.0\n",
      "division(5, 2.5) = 2.0\n"
     ]
    }
   ],
   "source": [
    "# Test division function\n",
    "print(\"division(1, 2) = {}\".format(division(1, 2)))\n",
    "print(\"division(5.0, 2.5) = {}\".format(division(5.0, 2.5)))\n",
    "print(\"division(5, 2.5) = {}\".format(division(5.0, 2.5)))"
   ]
  },
  {
   "cell_type": "code",
   "execution_count": 14,
   "metadata": {},
   "outputs": [
    {
     "name": "stdout",
     "output_type": "stream",
     "text": [
      "Exception raised: Could not divide asd / 2. Raised Exception: could not convert string to float: 'asd'\n"
     ]
    }
   ],
   "source": [
    "# This call should raise an Exception\n",
    "try:\n",
    "    division(\"asd\", 2)\n",
    "except Exception as e:\n",
    "    print(\"Exception raised: {}\".format(e))"
   ]
  },
  {
   "cell_type": "code",
   "execution_count": 15,
   "metadata": {
    "colab": {},
    "colab_type": "code",
    "id": "NRrUFKaweSbV"
   },
   "outputs": [],
   "source": [
    "# Solució a l'exercici 2\n",
    "def ageUntill100(age):\n",
    "    \"\"\"\n",
    "    Retorna la diferencia 100 - age\n",
    "    \n",
    "    :param age: Edad de la persona, tipus: int\n",
    "    \"\"\"\n",
    "    \n",
    "    if type(age) != int:\n",
    "        raise Exception(\"age parameter should be type int\")\n",
    "        \n",
    "    return 100 - age"
   ]
  },
  {
   "cell_type": "code",
   "execution_count": 16,
   "metadata": {},
   "outputs": [
    {
     "name": "stdout",
     "output_type": "stream",
     "text": [
      "ageUntill100(100) = 0\n",
      "ageUntill100(25) = 75\n"
     ]
    }
   ],
   "source": [
    "# Test ageUntill100 function\n",
    "print(\"ageUntill100(100) = {}\".format(ageUntill100(100)))\n",
    "print(\"ageUntill100(25) = {}\".format(ageUntill100(25)))"
   ]
  },
  {
   "cell_type": "code",
   "execution_count": 17,
   "metadata": {},
   "outputs": [
    {
     "name": "stdout",
     "output_type": "stream",
     "text": [
      "Exception raised: age parameter should be type int\n"
     ]
    }
   ],
   "source": [
    "# This should raise an Exception\n",
    "try:\n",
    "    ageUntill100(\"asd\")\n",
    "except Exception as e:\n",
    "    print(\"Exception raised: {}\".format(e))"
   ]
  },
  {
   "cell_type": "code",
   "execution_count": 18,
   "metadata": {},
   "outputs": [],
   "source": [
    "def salutation(name, age):\n",
    "    \"\"\"\n",
    "    Retorna la salutació demanda.\n",
    "    Raise d'una excepció en cas de passar tipus de variables\n",
    "    no compatibles.\n",
    "    \n",
    "    :param name: Nom de la persona, tipus: str\n",
    "    :param age: Edad de la persona, tipus: int\n",
    "    :return: Salutació, tipus: str\n",
    "    \"\"\"\n",
    "    \n",
    "    if type(name) != str:\n",
    "        raise Exception(\"name parameter shold be of type str\")\n",
    "    \n",
    "    return \"Hola {name}, et falten {ageUntill} anys per arribar a 100.\"\\\n",
    "            .format(name=name, ageUntill=ageUntill100(age))"
   ]
  },
  {
   "cell_type": "code",
   "execution_count": 19,
   "metadata": {},
   "outputs": [
    {
     "name": "stdout",
     "output_type": "stream",
     "text": [
      "salutation(\"Taras\", 100) = Hola Taras, et falten 0 anys per arribar a 100.\n",
      "salutation(\"Taras\", 22) = Hola Taras, et falten 78 anys per arribar a 100.\n"
     ]
    }
   ],
   "source": [
    "# Test fucntion ageSalutation\n",
    "print(\"salutation(\\\"Taras\\\", 100) = {}\"\\\n",
    "      .format(salutation(\"Taras\", 100)))\n",
    "print(\"salutation(\\\"Taras\\\", 22) = {}\"\\\n",
    "      .format(salutation(\"Taras\", 22)))"
   ]
  },
  {
   "cell_type": "code",
   "execution_count": 20,
   "metadata": {},
   "outputs": [
    {
     "name": "stdout",
     "output_type": "stream",
     "text": [
      "Exception raised: name parameter shold be of type str\n"
     ]
    }
   ],
   "source": [
    "# This should raise an Exception for name param\n",
    "try:\n",
    "    salutation(2, 22)\n",
    "except Exception as e:\n",
    "    print(\"Exception raised: {}\".format(e))"
   ]
  },
  {
   "cell_type": "code",
   "execution_count": 21,
   "metadata": {},
   "outputs": [
    {
     "name": "stdout",
     "output_type": "stream",
     "text": [
      "Exception raised: age parameter should be type int\n"
     ]
    }
   ],
   "source": [
    "# This should raise an Exception for age param\n",
    "try:\n",
    "    salutation(\"Taras\", \"22\")\n",
    "except Exception as e:\n",
    "    print(\"Exception raised: {}\".format(e))"
   ]
  },
  {
   "cell_type": "code",
   "execution_count": 22,
   "metadata": {
    "colab": {},
    "colab_type": "code",
    "id": "VKlYDPpoeSbZ"
   },
   "outputs": [],
   "source": [
    "# Solució a l'exercici 3\n",
    "# DONE: \n",
    "# Les solucions ja estan escrites amb bon estil de programació\n",
    "# (#recursion)"
   ]
  },
  {
   "cell_type": "markdown",
   "metadata": {
    "colab_type": "text",
    "id": "ddaN7d8jeSbh"
   },
   "source": [
    "## Referències\n",
    "Les explicacions, exemples i exercicis s'han basat en les següents fonts:\n",
    "\n",
    "- Singh et al. “Time complexity of algorithms” dins Study tonight [http://www.studytonight.com/data-structures/time-complexity-of-algorithms] consultat el 26 de novembre de 2015\n",
    "- Umesh V. Vazirani “Chapter 2: divide and conquer algorithms” [https://www.cs.berkeley.edu/~vazirani/algorithms/chap2.pdf] consultat el 26 de novembre de 2015\n",
    "- Cormen, T. C., Leiserson, C. E., Rivest, R. L., & Stein, C. (2009). *Introduction to algorithms* (3rd ed.). Cambridge: The MIT Press. ISBN 9780262033848"
   ]
  },
  {
   "cell_type": "markdown",
   "metadata": {
    "colab_type": "text",
    "id": "XRGFdlM3eSbt"
   },
   "source": [
    "<div id=\"peu\">\n",
    "<p><a href=\"https://colab.research.google.com/github/algorismica2019/problemes/blob/master/Funcions.ipynb\"><img style=\"margin:-10px 10px 20px 0\" width=\"150px\" align=\"right\" src=\"https://raw.githubusercontent.com/algorismica2019/problemes/master/assets/colab-badge.png?raw=1\" alt=\"Obrir a Colab\" title=\"Obrir i executar a Google Colaboratory\"></a></p>\n",
    "<p style=\"clear:both;text-align:center\">&lt; <a href=\"Teoria.ipynb\">Explicacions teòriques</a> | <a href=\"LListatProblemes.ipynb\">LListat de problemes</a> | <a href=\"Variables.ipynb\">Variables</a> &gt; </p>\n",
    "</div>"
   ]
  }
 ],
 "metadata": {
  "colab": {
   "name": "Funcions.ipynb",
   "provenance": []
  },
  "kernelspec": {
   "display_name": "Python 3",
   "language": "python",
   "name": "python3"
  },
  "language_info": {
   "codemirror_mode": {
    "name": "ipython",
    "version": 3
   },
   "file_extension": ".py",
   "mimetype": "text/x-python",
   "name": "python",
   "nbconvert_exporter": "python",
   "pygments_lexer": "ipython3",
   "version": "3.6.8"
  }
 },
 "nbformat": 4,
 "nbformat_minor": 1
}
