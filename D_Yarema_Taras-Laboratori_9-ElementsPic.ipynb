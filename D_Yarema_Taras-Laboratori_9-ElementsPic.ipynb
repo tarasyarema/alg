{
 "cells": [
  {
   "cell_type": "markdown",
   "metadata": {
    "colab_type": "text",
    "id": "SrFZrrckp0_4"
   },
   "source": [
    "# <span class=\"tema\">(Ordenar i cerca)</span> Elements pic"
   ]
  },
  {
   "cell_type": "markdown",
   "metadata": {
    "colab_type": "text",
    "id": "gR8Y-Xkqp0_6"
   },
   "source": [
    "Donada una llista d’enters en la que mai trobem dos elements consecutius del mateix valor, trobar **un** dels elements pic. Un enter serà un element pic si els seus veïns immediats són menors que ell. "
   ]
  },
  {
   "cell_type": "markdown",
   "metadata": {
    "colab_type": "text",
    "id": "zOrn1a7qp0_7"
   },
   "source": [
    "### Conceptualització problema\n",
    "\n",
    "Pensa en les diferents formes (creixent i decreixent) que tindria una funció en la que la llista fos la y, i en cada cas on se situarien els elements pic i com els identificaries. \n",
    "\n",
    "<img src=\"https://github.com/algorismica2019/problemes/blob/master/elementsPic.png?raw=1\" alt=\"quatre patrons que pot tenir la llista, creixent, decreixent, un sol pic i més d'un pic\" />\n",
    "\n",
    "Imagina't que mires l'element central de la llista, on està el pic? com ho saps? quin serà el següent pas?\n",
    "\n",
    "#### Pensa si hi ha algun algorisme vist a teoria aplicable en aquest cas.\n",
    "\n",
    "...\n",
    "\n",
    "#### Explica els passos que fa l'algorisme en el cas `elementsPic([3, 1, 5, 2, 7, 8])`\n",
    "\n",
    "....\n",
    "\n",
    "#### Calcula la complexitat de l'algorisme amb el teorema del màster\n",
    "\n",
    "....\n",
    "\n",
    "### Referències\n",
    "\n",
    "[1] ..."
   ]
  },
  {
   "cell_type": "markdown",
   "metadata": {},
   "source": [
    "### Implementació"
   ]
  },
  {
   "cell_type": "code",
   "execution_count": 4,
   "metadata": {
    "colab": {},
    "colab_type": "code",
    "id": "3sQon8CFp0_8"
   },
   "outputs": [],
   "source": [
    "def elementsPic(llista: list) -> str:\n",
    "    \"\"\"\n",
    "    Whatever...\n",
    "    \n",
    "    Parameters\n",
    "    ----------\n",
    "        llista, list\n",
    "        \n",
    "    Returns\n",
    "    -------\n",
    "        str\n",
    "            Message\n",
    "    \"\"\"\n",
    "    \n",
    "    sol = llista[0]\n",
    "    return f\"Un dels elements pic és el {sol}\""
   ]
  },
  {
   "cell_type": "markdown",
   "metadata": {},
   "source": [
    "### Testeig\n",
    "\n",
    "Defineix aquí diversos exemples d'execucions que cobreixin els casos que pot presentar l'algorisme\n",
    "\n",
    "#### Atenció\n",
    "Les següents llistes no serien vàlides ja que tenen un mateix valor repetit de manera consecutiva , i podem suposar que l'usuari ja no les introdueix `[3, 3, 5, 2, 7, 8]`, `[3, 5, 2, 7, 7, 8]`.\n",
    "\n",
    "#### Exemple\n",
    "\n",
    "- `elementsPic([3, 1, 5, 2, 7, 8])`        => Ha de retornar `\"Un dels elements pic és el 3\"`.\n",
    "En aquesta llista en realitat hi ha diversos elements pic: el 3, el 5 i el 8, l'algorisme només n'ha de tornar un\n",
    "\n",
    "- `elementsPic([9, 5, 2])`              => Ha de retornar `\"Un dels elements pic és el 9\"`.\n",
    "En una llista ordenada en ordre descendent, l'element pic sempre serà el primer enter.\n",
    "\n",
    "- `elementsPic([1, 2, 7, 8])`            => Ha de retornar `\"Un dels elements pic és el 8\"`.\n",
    "En una llista ordenada en ordre ascendent, l'element pic sempre serà el darrer enter."
   ]
  },
  {
   "cell_type": "code",
   "execution_count": 3,
   "metadata": {},
   "outputs": [
    {
     "ename": "AssertionError",
     "evalue": "",
     "output_type": "error",
     "traceback": [
      "\u001b[0;31m---------------------------------------------------------------------------\u001b[0m",
      "\u001b[0;31mAssertionError\u001b[0m                            Traceback (most recent call last)",
      "\u001b[0;32m<ipython-input-3-ea4f2ccb7d72>\u001b[0m in \u001b[0;36m<module>\u001b[0;34m\u001b[0m\n\u001b[1;32m      5\u001b[0m \u001b[0;32massert\u001b[0m \u001b[0melementsPic\u001b[0m\u001b[0;34m(\u001b[0m\u001b[0mlist_a\u001b[0m\u001b[0;34m)\u001b[0m \u001b[0;34m==\u001b[0m \u001b[0;34m\"Un dels elements pic és el 3\"\u001b[0m\u001b[0;34m\u001b[0m\u001b[0;34m\u001b[0m\u001b[0m\n\u001b[1;32m      6\u001b[0m \u001b[0;32massert\u001b[0m \u001b[0melementsPic\u001b[0m\u001b[0;34m(\u001b[0m\u001b[0mlist_b\u001b[0m\u001b[0;34m)\u001b[0m \u001b[0;34m==\u001b[0m \u001b[0;34m\"Un dels elements pic és el 9\"\u001b[0m\u001b[0;34m\u001b[0m\u001b[0;34m\u001b[0m\u001b[0m\n\u001b[0;32m----> 7\u001b[0;31m \u001b[0;32massert\u001b[0m \u001b[0melementsPic\u001b[0m\u001b[0;34m(\u001b[0m\u001b[0mlist_c\u001b[0m\u001b[0;34m)\u001b[0m \u001b[0;34m==\u001b[0m \u001b[0;34m\"Un dels elements pic és el 8\"\u001b[0m\u001b[0;34m\u001b[0m\u001b[0;34m\u001b[0m\u001b[0m\n\u001b[0m",
      "\u001b[0;31mAssertionError\u001b[0m: "
     ]
    }
   ],
   "source": [
    "list_a = [3, 1, 5, 2, 7, 8]\n",
    "list_b = [9, 5, 2]\n",
    "list_c = [1, 2, 7, 8]\n",
    "\n",
    "assert elementsPic(list_a) == \"Un dels elements pic és el 3\"\n",
    "assert elementsPic(list_b) == \"Un dels elements pic és el 9\"\n",
    "assert elementsPic(list_c) == \"Un dels elements pic és el 8\""
   ]
  },
  {
   "cell_type": "markdown",
   "metadata": {
    "colab_type": "text",
    "id": "btl0jscup1AA"
   },
   "source": [
    "### Avaluació (0 a 10 punts)\n",
    "\n",
    "\n",
    "Concepte | Puntuació \n",
    "--- | --- \n",
    "Solució correcta de complexitat O(n) | **7** punts\n",
    "Càlcul de la complexitat correcte | **+2** punts\n",
    "Solució correcta de complexitat >= O(n) | **2** punts \n",
    "Codi comentat i seguint estàndar PEP8 | **+1** punt \n",
    "S'ofereix una funció adicional per mostrar la solució elegantment| **+0.5** punts \n",
    "L'algorisme falla repetidament | **-7** punts \n",
    "L'algorisme falla en algun cas excepcional | **-4** punt\n",
    "No es donen prous exemples d'execució | **-1** punt\n",
    "Codi, noms de variables, solució o comentaris no prou clars | **-1** punt\n",
    "La funció o els paràmetres no s'anomenen com a l'exemple | **-1** punt"
   ]
  }
 ],
 "metadata": {
  "colab": {
   "name": "ElementsPic.ipynb",
   "provenance": []
  },
  "kernelspec": {
   "display_name": "Python 3",
   "language": "python",
   "name": "python3"
  },
  "language_info": {
   "codemirror_mode": {
    "name": "ipython",
    "version": 3
   },
   "file_extension": ".py",
   "mimetype": "text/x-python",
   "name": "python",
   "nbconvert_exporter": "python",
   "pygments_lexer": "ipython3",
   "version": "3.7.4"
  }
 },
 "nbformat": 4,
 "nbformat_minor": 1
}
