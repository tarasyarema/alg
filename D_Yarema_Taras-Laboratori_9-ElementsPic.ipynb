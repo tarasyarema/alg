{
  "nbformat": 4,
  "nbformat_minor": 0,
  "metadata": {
    "kernelspec": {
      "display_name": "Python 3",
      "language": "python",
      "name": "python3"
    },
    "language_info": {
      "codemirror_mode": {
        "name": "ipython",
        "version": 3
      },
      "file_extension": ".py",
      "mimetype": "text/x-python",
      "name": "python",
      "nbconvert_exporter": "python",
      "pygments_lexer": "ipython3",
      "version": "3.7.3"
    },
    "colab": {
      "name": "ElementsPic.ipynb",
      "provenance": []
    }
  },
  "cells": [
    {
      "cell_type": "markdown",
      "metadata": {
        "id": "p0B8_Kcmp0-4",
        "colab_type": "text"
      },
      "source": [
        "<div id=\"capcalera\">\n",
        "<p><a href=\"https://colab.research.google.com/github/algorismica2019/problemes/blob/master/ElementsPic.ipynb\"><img style=\"margin:-10px 10px 20px 0\" width=\"150px\" align=\"right\" src=\"https://raw.githubusercontent.com/algorismica2019/problemes/master/assets/colab-badge.png?raw=1\" alt=\"Obrir a Colab\" title=\"Obrir i executar a Google Colaboratory\"></a></p>\n",
        "<p style=\"clear:both\"><img align='left' width=\"300px\" style=\"padding-right:10px;float=left\" src=\"https://raw.githubusercontent.com/algorismica2019/problemes/master/assets/al-khwarizmi.png\">Aquest notebook forma part dels continguts teòrics dels problemes de l'assignatura d'<strong>Algorísmica</strong> del Grau d'Enginyeria Informàtica a la <a href=\"https://mat.ub.edu\">Facultat de Matemàtiques i Informàtica</a> de la <a href=\"https://www.ub.edu\">Universitat de Barcelona</a> impartida per <em>Jordi Vitrià</em> i <em>Mireia Ribera</em></p>\n",
        "\n",
        "<p>Els problemes s'ofereixen sota llicència <a href=\"https://creativecommons.org/licenses/by-nc-nd/3.0/us/legalcode\">CC-BY-NC-ND license</a>, i el codi sota <a href=\"https://opensource.org/licenses/MIT\">Llicència MIT</a>.</p>\n",
        "\n",
        "<p style=\"clear:both;text-align:center\">&lt; <a href=\"DividirLlistaTresParts.ipynb\">Problema anterior</a> | <a href=\"LListatProblemes.ipynb\">LListat de problemes</a> | <a href=\"ElMesPetit.ipynb\">Problema següent</a> &gt; </p>\n",
        "\n",
        "</div>"
      ]
    },
    {
      "cell_type": "markdown",
      "metadata": {
        "id": "SrFZrrckp0_4",
        "colab_type": "text"
      },
      "source": [
        "# <span class=\"tema\">( Ordenar i cerca )</span> Elements pic"
      ]
    },
    {
      "cell_type": "markdown",
      "metadata": {
        "id": "gR8Y-Xkqp0_6",
        "colab_type": "text"
      },
      "source": [
        "Donada una llista d’enters en la que mai trobem dos elements consecutius del mateix valor, trobar **un** dels elements pic. Un enter serà un element pic si els seus veïns immediats són menors que ell. "
      ]
    },
    {
      "cell_type": "markdown",
      "metadata": {
        "id": "zOrn1a7qp0_7",
        "colab_type": "text"
      },
      "source": [
        "### Conceptualització problema\n",
        "\n",
        "1. Pensa en les diferents formes (creixent i decreixent) que tindria una funció en la que la llista fos la y, i en cada cas on se situarien els elements pic i com els identificaries. \n",
        "\n",
        "<img src=\"https://github.com/algorismica2019/problemes/blob/master/elementsPic.png?raw=1\" alt=\"quatre patrons que pot tenir la llista, creixent, decreixent, un sol pic i més d'un pic\" />\n",
        "\n",
        "Imagina't que mires l'element central de la llista, on està el pic? com ho saps? quin serà el següent pas?\n",
        "\n",
        "1. Pensa si hi ha algun algorisme vist a teoria aplicable en aquest cas.\n",
        "1. Explica els passos que fa l'algorisme en el cas elementsPic([3, 1, 5, 2, 7, 8])\n",
        "1. Calcula la complexitat de l'algorisme amb el teorema del màster\n",
        "\n",
        "### Testeig\n",
        "\n",
        "Defineix aquí diversos exemples d'execucions que cobreixin els casos que pot presentar l'algorisme\n",
        "\n",
        "atenció: les següents llistes no serien vàlides ja que tenen un mateix valor repetit de manera consecutiva , i podem suposar que l'usuari ja no les introdueix [3, 3, 5, 2, 7, 8], [3, 5, 2, 7, 7, 8]\n",
        "\n",
        "Exemple:\n",
        "\n",
        "- elementsPic([3, 1, 5, 2, 7, 8])        => Ha de retornar \"Un dels elements pic és el 3\"\n",
        "\n",
        "En aquesta llista en realitat hi ha diversos elements pic: el 3, el 5 i el 8, l'algorisme només n'ha de tornar un\n",
        "- elementsPic([9, 5, 2])              => Ha de retornar \"Un dels elements pic és el 9\"\n",
        "\n",
        "En una llista ordenada en ordre descendent, l'element pic sempre serà el primer enter.\n",
        "- elementsPic([1, 2, 7, 8])            => Ha de retornar \"Un dels elements pic és el 8\"\n",
        "En una llista ordenada en ordre ascendent, l'element pic sempre serà el darrer enter.\n",
        "\n",
        "### Implementació"
      ]
    },
    {
      "cell_type": "code",
      "metadata": {
        "id": "3sQon8CFp0_8",
        "colab_type": "code",
        "colab": {}
      },
      "source": [
        "# Inserir aquí el codi de la funció seguint el patró donat-\n",
        "def elementsPic(llista):\n",
        "    pass\n",
        "    return pic"
      ],
      "execution_count": 0,
      "outputs": []
    },
    {
      "cell_type": "markdown",
      "metadata": {
        "id": "btl0jscup1AA",
        "colab_type": "text"
      },
      "source": [
        "### Avaluació (0 a 10 punts)\n",
        "\n",
        "\n",
        "Concepte | Puntuació \n",
        "--- | --- \n",
        "Solució correcta de complexitat O(n) | **7** punts\n",
        "Càlcul de la complexitat correcte | **+2** punts\n",
        "Solució correcta de complexitat >= O(n) | **2** punts \n",
        "Codi comentat i seguint estàndar PEP8 | **+1** punt \n",
        "S'ofereix una funció adicional per mostrar la solució elegantment| **+0.5** punts \n",
        "L'algorisme falla repetidament | **-7** punts \n",
        "L'algorisme falla en algun cas excepcional | **-4** punt\n",
        "No es donen prous exemples d'execució | **-1** punt\n",
        "Codi, noms de variables, solució o comentaris no prou clars | **-1** punt\n",
        "La funció o els paràmetres no s'anomenen com a l'exemple | **-1** punt"
      ]
    },
    {
      "cell_type": "code",
      "metadata": {
        "id": "CPK_U0sVp1AB",
        "colab_type": "code",
        "colab": {},
        "outputId": "164ac399-81f1-483b-a777-b044c7fdaadb"
      },
      "source": [
        "# Executar aquesta cel.la per donar estil al notebook\n",
        "from IPython.core.display import HTML\n",
        "import requests\n",
        "style=requests.get('https://raw.githubusercontent.com/algorismica2019/problemes/master/assets/prova.css').text\n",
        "HTML('<style>{}</style>'.format(style))"
      ],
      "execution_count": 0,
      "outputs": [
        {
          "output_type": "execute_result",
          "data": {
            "text/html": [
              "<style><style>\n",
              "\n",
              "@import url('http://fonts.googleapis.com/css?family=Source+Code+Pro');\n",
              "@import url('http://fonts.googleapis.com/css?family=Lora');\n",
              "\n",
              "/*   adapted from https://github.com/edwardtufte/et-book/blob/gh-pages/et-book.css */\n",
              "\n",
              "@charset \"UTF-8\";\n",
              "\n",
              "@font-face {\n",
              "  font-family: \"et-book\";\n",
              "  src: url(\"et-book/roman-line-figures.ttf\") format(\"truetype\");\n",
              "  font-weight: normal;\n",
              "  font-style: normal\n",
              "}\n",
              "\n",
              "@font-face {\n",
              "  font-family: \"et-book\";\n",
              "  src: url(\"et-book/display-italic-old-style-figures.ttf\") format(\"truetype\");\n",
              "  font-weight: normal;\n",
              "  font-style: italic\n",
              "}\n",
              "\n",
              "@font-face {\n",
              "  font-family: \"et-book\";\n",
              "  src: url(\"et-book/bold-line-figures.ttf\") format(\"truetype\");\n",
              "  font-weight: bold;\n",
              "  font-style: normal\n",
              "}\n",
              "\n",
              "@font-face {\n",
              "  font-family: \"et-book-roman-old-style\";\n",
              "  src: url(\"et-book/roman-old-style-figures.ttf\") format(\"truetype\");\n",
              "  font-weight: normal;\n",
              "  font-style: normal;\n",
              "}\n",
              "\n",
              "html {\n",
              "       font-size: 15px !important;\n",
              "}\n",
              "\n",
              ".tema, h1 span { font-size: 14pt;\n",
              "\tfont-style: italic;\n",
              "\tfont-weight: 100;}\n",
              "\n",
              "#capcalera {\tfont-family:Arial;\n",
              "\t\tfont-size:12pt;\n",
              "\t\tbackground-color:#fff1f1;\n",
              "\t\tpadding:5px;\n",
              "\t\t}\n",
              "#peu {\tfont-family:Arial;\n",
              "\tfont-size:12pt;\n",
              "\tbackground-color:#fff1f1;\n",
              "\tpadding:2px;\n",
              "\tline-height:1}\n",
              "\n",
              ".exercici {color:#a60d0d;\n",
              "\t   /* border-width:0 0 2px 2px !important;\n",
              "\t   border-style:solid !important;\n",
              "\t   border-color:#5e3333 !important; */ }\n",
              "\n",
              ".explicacio {}\n",
              "\n",
              ".avaluacio {}\n",
              "\n",
              "\n",
              "#notebook-container, .notebook_cell_list {\n",
              "       font-size: 1rem !important;\n",
              "       line-height: 1.5 !important;\n",
              "       width: 100%  !important;\n",
              "       margin-left: auto !important;\n",
              "       margin-right: auto !important;\n",
              "       padding-left: 12.5% !important;\n",
              "       font-family: et-book, Palatino, \"Palatino Linotype\", \"Palatino LT STD\", \"Book Antiqua\", Georgia, serif  !important;\n",
              "       background-color: #fffff8 !important;\n",
              "       color: #111 !important;\n",
              "       max-width: 1400px !important; }\n",
              "\n",
              " .rendered .input_prompt {\n",
              "\t min-width:0 !important; } \n",
              "\n",
              ".text_cell_render h1, .markdown h1 { \n",
              "     font-weight: 400;\n",
              "     font-style: normal;\n",
              "     margin-top: 0rem;\n",
              "     margin-bottom: 0rem;\n",
              "     font-size: 2rem; }\n",
              "\n",
              " .text_cell_render h2 { font-style: italic;\n",
              "     font-weight: 400;\n",
              "     font-size: 1.5rem;\n",
              "     margin-top: 1.5rem;\n",
              "     margin-bottom: 1.5em; }\n",
              "\n",
              " .text_cell_render h3 { font-style: italic;\n",
              "             font-weight: 400;\n",
              "             margin-top: 1rem;\n",
              "             margin-bottom: 1rem;\n",
              "             font-size: 1.2rem;\n",
              "             display: block; }\n",
              "\n",
              " .text_cell_render h4 {\n",
              "    font-size: 1.1rem;\n",
              "    font-weight: 400;\n",
              "    margin: 1rem auto; }\n",
              "\n",
              ".rendered_html p { \n",
              "\tfont-size: 1rem !important; \n",
              "    \tmargin-top: 1rem !important;;\n",
              "    \tmargin-bottom: 1rem !important;;\n",
              "    \tpadding-right: 0 !important;;\n",
              "    \tvertical-align: baseline !important;; }\n",
              "\n",
              ".rendered_html blockquote { font-size: 1.1rem !important;}\n",
              "\n",
              ".rendered_html ol, ul { width: 75% !important;; }\n",
              "\n",
              ".rendered_html li { padding: 0.5rem 0 !important;; }\n",
              "\n",
              ".rendered_html table {\n",
              "  border-top: 2px solid #111 !important;\n",
              "  border-bottom: 2px solid #111 !important;\n",
              "  font-size: 0.8rem !important;\n",
              "}\n",
              "\n",
              ".rendered_html th {\n",
              "  border-bottom: 1px solid #111 !important;\n",
              "}\n",
              "\t \n",
              ".rendered_html a { text-decoration: none !important;\n",
              "         background: linear-gradient(#fffff8, #fffff8), linear-gradient(#fffff8, #fffff8), linear-gradient(#333, #333);\n",
              "         background-size: 0.05em 1px, 0.05em 1px, 1px 1px;\n",
              "         background-repeat: no-repeat, no-repeat, repeat-x;\n",
              "         text-shadow: 0.03em 0 #fffff8, -0.03em 0 #fffff8, 0 0.03em #fffff8, 0 -0.03em #fffff8, 0.06em 0 #fffff8, -0.06em 0 #fffff8, 0.09em 0 #fffff8, -0.09em 0 #fffff8, 0.12em 0 #fffff8, -0.12em 0 #fffff8, 0.15em 0 #fffff8, -0.15em 0 #fffff8;\n",
              "         background-position: 0% 93%, 100% 93%, 0% 93%; }\n",
              "\n",
              ".rendered_html a:link::selection { text-shadow: 0.03em 0 #b4d5fe, -0.03em 0 #b4d5fe, 0 0.03em #b4d5fe, 0 -0.03em #b4d5fe, 0.06em 0 #b4d5fe, -0.06em 0 #b4d5fe, 0.09em 0 #b4d5fe, -0.09em 0 #b4d5fe, 0.12em 0 #b4d5fe, -0.12em 0 #b4d5fe, 0.15em 0 #b4d5fe, -0.15em 0 #b4d5fe;\n",
              "                    background: #b4d5fe; }\n",
              " \n",
              ".rendered_html pre { \n",
              "\tborder:1px solid #cccccc !important; }\n",
              "\n",
              ".rendered_html * code { \n",
              "\tfont-size: 1rem !important;\n",
              "        line-height: 1.5 !important;\n",
              "\tfont-family: Consolas, \"Liberation Mono\", Menlo, Courier, monospace !important;\n",
              "\tbackground-color: #fff !important }\n",
              "</style> \n",
              "<script>\n",
              "    MathJax.Hub.Config({\n",
              "                        TeX: {\n",
              "                           extensions: [\"AMSmath.js\"],\n",
              "                           equationNumbers: { autoNumber: \"AMS\", useLabelIds: true}\n",
              "                           },\n",
              "                tex2jax: {\n",
              "                    inlineMath: [ ['$','$'], [\"\\\\(\",\"\\\\)\"] ],\n",
              "                    displayMath: [ ['$$','$$'], [\"\\\\[\",\"\\\\]\"] ]\n",
              "                },\n",
              "                displayAlign: 'center', // Change this to 'center' to center equations.\n",
              "                \"HTML-CSS\": {\n",
              "                    scale: 95,\n",
              "                        availableFonts: [],\n",
              "                        preferredFont:null,\n",
              "                        webFont: \"TeX\",\n",
              "                    styles: {'.MathJax_Display': {\"margin\": 4}}\n",
              "                },\n",
              "                 \"fast-preview\": {\n",
              "                    \"disabled\": false\n",
              "                }\n",
              "        });\n",
              "</script>\n",
              "</style>"
            ],
            "text/plain": [
              "<IPython.core.display.HTML object>"
            ]
          },
          "metadata": {
            "tags": []
          },
          "execution_count": 1
        }
      ]
    },
    {
      "cell_type": "markdown",
      "metadata": {
        "id": "aWtVr5f8p1AI",
        "colab_type": "text"
      },
      "source": [
        "<div id=\"peu\">\n",
        "<p><a href=\"https://colab.research.google.com/github/algorismica2019/problemes/blob/master/ElementsPic.ipynb\"><img style=\"margin:-10px 10px 20px 0\" width=\"150px\" align=\"right\" src=\"https://raw.githubusercontent.com/algorismica2019/problemes/master/assets/colab-badge.png?raw=1\" alt=\"Obrir a Colab\" title=\"Obrir i executar a Google Colaboratory\"></a></p>\n",
        "<p style=\"clear:both;text-align:center\">&lt; <a href=\"DividirLlistaTresParts.ipynb\">Problema anterior</a> | <a href=\"LListatProblemes.ipynb\">LListat de problemes</a> | <a href=\"ElMesPetit.ipynb\">Problema següent</a> &gt; </p>\n",
        "</div>"
      ]
    }
  ]
}