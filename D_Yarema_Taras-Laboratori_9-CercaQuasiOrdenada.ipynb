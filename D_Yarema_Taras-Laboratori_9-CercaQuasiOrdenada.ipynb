{
 "cells": [
  {
   "cell_type": "markdown",
   "metadata": {
    "colab_type": "text",
    "id": "si1oox0xpzHQ"
   },
   "source": [
    "# <span class=\"tema\">(Ordenar i cerca)</span> Cerca en llista quasi-ordenada"
   ]
  },
  {
   "cell_type": "markdown",
   "metadata": {
    "colab_type": "text",
    "id": "RxNE9iv4pzHR"
   },
   "source": [
    "<p style=\"font-family:Arial;font-size:1em\">\n",
    "Donada una llista d’enters quasi-ordenada, en la que un element pot estar posicionat un índex per sota o per sobre de la seva posició correcta, i un valor, trobar la posició d'aquest valor.\n",
    "</p>"
   ]
  },
  {
   "cell_type": "markdown",
   "metadata": {
    "colab_type": "text",
    "id": "MM0podoppzHS"
   },
   "source": [
    "### Conceptualització problema\n",
    "\n",
    "#### El problema et recorda algun dels algorismes estudiats de dividir i vèncer? Quin? En què es diferencia?\n",
    "\n",
    "Si, a l'algoritme de **cerca binària**. En aquest cas, s'ha de modificar l'algoritme ja que la llista no esta totalment ordenada. En aquest cas s'hauran de fer certes comprovacions extra, comentades en el codi. \n",
    "\n",
    "#### Calcula la complexitat de l'algorisme\n",
    "\n",
    "En cada iteració dividim la llista en dues parts. Sabem [1] que la profunditat de l'arbre binàri, generat per la recursivitat, és $\\lfloor \\log _{2}(n)+1\\rfloor$. Per tant, la complexitat de l'algoritme és\n",
    "$$O(\\log_2 n)$$\n",
    "\n",
    "#### Quantes comparacions es fan en el cas pitjor?\n",
    "\n",
    "Utilitzant la resposta de la pregunta anterior, en cada iteració es realitzen 3 comparacions, per tant, en el pitjor dels casos es realitzaran $3 \\lfloor \\log _{2}(n)+1\\rfloor$ comparacions.\n",
    "\n",
    "\n",
    "### Referències\n",
    "\n",
    "[1]: [Wikipedia: Binary Search Algorithm](https://en.wikipedia.org/wiki/Binary_search_algorithm)."
   ]
  },
  {
   "cell_type": "markdown",
   "metadata": {},
   "source": [
    "### Implementació"
   ]
  },
  {
   "cell_type": "code",
   "execution_count": 1,
   "metadata": {
    "colab": {},
    "colab_type": "code",
    "id": "IqpwlxrLpzHT"
   },
   "outputs": [],
   "source": [
    "def cercaQuasiOrd(llista: list, num: int, begin=None, end=None) -> int:\n",
    "    \"\"\"\n",
    "    Returns the position of num in llista, \n",
    "    using a binary search based recursive algorithm.\n",
    "    \n",
    "    Parameters\n",
    "    ----------\n",
    "        llista, list\n",
    "            List to search in.\n",
    "        \n",
    "        num, int\n",
    "            Element to search for.\n",
    "        \n",
    "        begin (optional), int\n",
    "            Beginning of the slice of llista\n",
    "            we are working with.\n",
    "        \n",
    "        end (optional), int\n",
    "            End of the slice of llista\n",
    "            we are working with.\n",
    "    \n",
    "    Returns\n",
    "    -------\n",
    "        int\n",
    "            Index of num in llista\n",
    "    \"\"\"\n",
    "\n",
    "    # We init the additional\n",
    "    # parameters\n",
    "    # Only if it's the first iteration.\n",
    "    \n",
    "    if begin is None:\n",
    "        begin = 0\n",
    "    \n",
    "    if end is None:\n",
    "        end = len(llista)\n",
    "    \n",
    "    if (end >= begin): \n",
    "        # Compute the middle element\n",
    "        \n",
    "        mid = begin + (end - begin) // 2 \n",
    "        \n",
    "        # Check if the element is 'around'\n",
    "        # the middle, i.e. is in one of the \n",
    "        # following positions\n",
    "        # [ ... , mid-1, mid, mid+1,  ... ]\n",
    "        \n",
    "        if llista[mid] == num: \n",
    "            return mid \n",
    "        \n",
    "        elif mid > begin and llista[mid - 1] == num:  \n",
    "            return mid - 1\n",
    "        \n",
    "        elif mid < end and llista[mid + 1] == num: \n",
    "            return mid + 1\n",
    "            \n",
    "        # Recursive call\n",
    "        # We call depending on which part of the\n",
    "        # actual array the elemnt will be\n",
    "        \n",
    "        if llista[mid] > num: \n",
    "            return cercaQuasiOrd(llista, num, begin, mid - 2) \n",
    "              \n",
    "        else:\n",
    "            return cercaQuasiOrd(llista, num, mid + 2, end) \n",
    "    \n",
    "    # If the element was not found,\n",
    "    # we return an error code\n",
    "    \n",
    "    return -1"
   ]
  },
  {
   "cell_type": "code",
   "execution_count": 2,
   "metadata": {},
   "outputs": [
    {
     "name": "stdout",
     "output_type": "stream",
     "text": [
      "cercaQuasiOrd: Index of 5 in [2, 1, 3, 5, 4, 7, 6, 8, 9] is 3.\n"
     ]
    }
   ],
   "source": [
    "def cercaQuasiOrdPretty(llista: list, num: int) -> None:\n",
    "    \"\"\"\n",
    "    Pretty cercaQuasiOrd\n",
    "    \n",
    "    Parameters\n",
    "    ----------\n",
    "        llista, list\n",
    "        num, int\n",
    "    \n",
    "    Returns\n",
    "    -------\n",
    "        None\n",
    "    \"\"\"\n",
    "    \n",
    "    print(f\"cercaQuasiOrd: Index of {num} in {llista} is {cercaQuasiOrd(llista, num)}.\")\n",
    "\n",
    "cercaQuasiOrdPretty([2,1,3,5,4,7,6,8,9], 5)"
   ]
  },
  {
   "cell_type": "markdown",
   "metadata": {},
   "source": [
    "### Testeig\n",
    "\n",
    "Defineix aquí diversos exemples d'execucions que cobreixin els casos que pot presentar l'algorisme\n",
    "\n",
    "Exemple:\n",
    "- `cercaQuasiOrd([2,1,3,5,4,7,6,8,9], 5)`  => Ha de retornar: `3`."
   ]
  },
  {
   "cell_type": "code",
   "execution_count": 3,
   "metadata": {},
   "outputs": [
    {
     "name": "stdout",
     "output_type": "stream",
     "text": [
      "Sample test case: OK\n",
      "Ran 9 unit tests: OK\n"
     ]
    }
   ],
   "source": [
    "llista, num = [2, 1, 3, 5, 4, 7, 6, 8, 9], 5\n",
    "\n",
    "assert cercaQuasiOrd(llista, num) == 3\n",
    "print(\"Sample test case: OK\")\n",
    "\n",
    "for e in llista:\n",
    "    assert cercaQuasiOrd(llista, e) == llista.index(e)\n",
    "print(f\"Ran {len(llista)} unit tests: OK\")"
   ]
  },
  {
   "cell_type": "markdown",
   "metadata": {
    "colab_type": "text",
    "id": "WUuzCMfYpzHY"
   },
   "source": [
    "### Avaluació (0 a 10 punts)\n",
    "\n",
    "\n",
    "Concepte | Puntuació \n",
    "--- | --- \n",
    "Solució correcta eficient | **7** punts\n",
    "Algorisme base encertat i ben adaptat | **+1** punts\n",
    "Càlcul correcte del cost | **+1** punts\n",
    "Solució correcta de complexitat >= O(n) | **2** punts \n",
    "Codi comentat i seguint estàndar PEP8 | **+1** punt \n",
    "S'ofereix una funció adicional per mostrar la solució elegantment| **+0.5** punts \n",
    "L'algorisme falla repetidament | **-7** punts \n",
    "L'algorisme falla en algun cas excepcional | **-4** punt\n",
    "No es donen prous exemples d'execució | **-1** punt\n",
    "Codi, noms de variables, solució o comentaris no prou clars | **-1** punt\n",
    "La funció o els paràmetres no s'anomenen com a l'exemple | **-1** punt"
   ]
  }
 ],
 "metadata": {
  "colab": {
   "name": "CercaQuasiOrdenada.ipynb",
   "provenance": []
  },
  "kernelspec": {
   "display_name": "Python 3",
   "language": "python",
   "name": "python3"
  },
  "language_info": {
   "codemirror_mode": {
    "name": "ipython",
    "version": 3
   },
   "file_extension": ".py",
   "mimetype": "text/x-python",
   "name": "python",
   "nbconvert_exporter": "python",
   "pygments_lexer": "ipython3",
   "version": "3.7.4"
  }
 },
 "nbformat": 4,
 "nbformat_minor": 1
}
