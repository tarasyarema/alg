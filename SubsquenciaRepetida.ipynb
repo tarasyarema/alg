{
 "cells": [
  {
   "cell_type": "markdown",
   "metadata": {
    "colab_type": "text",
    "id": "aNHKQf9nwy3A"
   },
   "source": [
    "# <span class=\"tema\">(Text)</span> Subseqüència repetida més llarga"
   ]
  },
  {
   "cell_type": "markdown",
   "metadata": {
    "colab_type": "text",
    "id": "iJ13Es2Jwy3B"
   },
   "source": [
    "Donada una cadena de caràcters verificar si conté una seqüència de caràcters repetida. La seqüència ha de contenir com a mínim 2 caràcters i cada repetició ha de tenir els seus propis caràcters, no es poden solapar.\n",
    "\n",
    "seqRepetida('BANANA') --> Hauria de retornar: conté AN com a seqüència repetida (o NA)<br>\n",
    "seqRepetida('AABAABAABA') --> Hauria de retornar: conté AABA com a seqüència repetida (atenció AA o AAB no serveixen perquè no són la més llarga)<br>\n",
    "seqRepetida('XXXXXX') --> Hauria de retornar: conté XXX com a seqüència repetida<br>\n",
    "seqRepetida('ABCCBA') --> Hauria de retornar: no conté cap seqüència repetida<br>\n",
    "seqRepetida('ABBA') --> Hauria de retornar: no conté cap seqüència repetida<br>\n",
    "seqRepetida('XYBZXAXBZ') --> Hauria de retornar: conté BZ com a seqüència repetida<br>\n",
    "seqRepetida('ABRACADABRA') --> Hauria de retornar: conté ABRA com a seqüència repetida<br>\n",
    "seqRepetida('BABABABABA') --> Hauria de retornar: conté BABA com a seqüència repetida<br>"
   ]
  },
  {
   "cell_type": "markdown",
   "metadata": {},
   "source": [
    "### Conceptualització problema\n",
    "\n",
    "#### Quines col.leccions has usat? Perquè?\n",
    "\n",
    "He utilitzat només un `set()` i una `list()`. El `set` l'he utilitzat per a que `candidates` no contigués repetits, i la `list` per a poder utilitzar la funció `max` sobre `candidates`.\n",
    "\n",
    "<br>\n",
    "\n",
    "#### Enumera les operacions que has fet amb aquestes col.leccions i busca la seva complexitat. Calcula la complexitat de tot l'algorisme\n",
    "\n",
    "El procés és simple:\n",
    "\n",
    "1. Una `set` comprehension per a generar totes les subsequencies possibles.\n",
    "2. Trobem el màxim de `candidates` respecte a `len`. En cas de que el `set` sigui buit, retornem `None`.\n",
    "\n",
    "<br>\n",
    "\n",
    "A partir d'ara suposem que tenim una cadena d'entrada $X$ amb llargada $n$.\n",
    "\n",
    "Primerament, sabem que la complexitat de `max` és $O(n)$ [1]. \n",
    "La complexitat de l'algortime utilitzat és $O(n^2)$ ja que:\n",
    "$$ 2 \\cdot \\sum_{i=i}^{n-1} \\cdot \\sum_{j=i+2}^{n} 1 + O(n) + 1 = 2O(n^2) + O(n) + 1 = O(n^2) $$\n",
    "Al final d'aquest notebook he afegit una *demostració* gràfica de que la complexitat donada és correcte.\n",
    "\n",
    "\n",
    "<br>\n",
    "\n",
    "**Referències**:\n",
    "1. [TimeComplexity](https://wiki.python.org/moin/TimeComplexity)."
   ]
  },
  {
   "cell_type": "markdown",
   "metadata": {
    "colab_type": "text",
    "id": "8d1rfK_Swy3D"
   },
   "source": [
    "### Implementació"
   ]
  },
  {
   "cell_type": "code",
   "execution_count": 1,
   "metadata": {
    "colab": {},
    "colab_type": "code",
    "id": "bafKrB2Hwy3E"
   },
   "outputs": [
    {
     "name": "stdout",
     "output_type": "stream",
     "text": [
      "None\n"
     ]
    }
   ],
   "source": [
    "def repetida(paraula):\n",
    "    candidates = set(paraula[i:j] \n",
    "                     for i in range(len(paraula)) \n",
    "                     for j in range(i + 2, len(paraula) + 1) \n",
    "                     if (paraula[i:j] in paraula[j:] or paraula[i:j] in paraula[:i])\n",
    "                    )\n",
    "    \n",
    "    return max(list(candidates), key=len) if candidates != set() else None\n",
    "\n",
    "print(repetida(\"abba\"))"
   ]
  },
  {
   "cell_type": "code",
   "execution_count": 2,
   "metadata": {},
   "outputs": [],
   "source": [
    "def pretty_repetida(paraula):\n",
    "    rep = repetida(paraula)\n",
    "    ret = \"\\\"{}\\\"\".format(rep) if rep is not None else \"subsequence not found\"\n",
    "    return \"repetida(\\\"{p}\\\") = {r}\".format(p=paraula, r=ret)"
   ]
  },
  {
   "cell_type": "code",
   "execution_count": 3,
   "metadata": {},
   "outputs": [
    {
     "name": "stdout",
     "output_type": "stream",
     "text": [
      "repetida(\"BABABABABA\") = \"BABA\"\n"
     ]
    }
   ],
   "source": [
    "print(pretty_repetida(\"BABABABABA\"))"
   ]
  },
  {
   "cell_type": "markdown",
   "metadata": {},
   "source": [
    "### Testeig"
   ]
  },
  {
   "cell_type": "markdown",
   "metadata": {},
   "source": [
    "#### Tests de l'enunciat"
   ]
  },
  {
   "cell_type": "code",
   "execution_count": 4,
   "metadata": {},
   "outputs": [
    {
     "name": "stdout",
     "output_type": "stream",
     "text": [
      "Running tests...\n",
      "Ran 8 tests.\n",
      "OK\n"
     ]
    }
   ],
   "source": [
    "import sys\n",
    "import traceback\n",
    "\n",
    "try:\n",
    "    print(\"Running tests...\")\n",
    "    assert repetida(\"BANANA\") in [\"AN\", \"NA\"]\n",
    "    assert repetida(\"AABAABAABA\") == \"AABA\"\n",
    "    assert repetida(\"XXXXXX\") == \"XXX\"\n",
    "    assert repetida(\"ABCCBA\") == None\n",
    "    assert repetida(\"ABBA\") == None\n",
    "    assert repetida(\"XYBZXAXBZ\") == \"BZ\"\n",
    "    assert repetida(\"ABRACADABRA\") == \"ABRA\"\n",
    "    assert repetida(\"BABABABABA\") in [\"BABA\", \"ABAB\"]\n",
    "    print(\"Ran 8 tests.\")\n",
    "    print(\"OK\")\n",
    "    \n",
    "except AssertionError:\n",
    "    _, _, tb = sys.exc_info()\n",
    "    traceback.print_tb(tb)\n",
    "    tb_info = traceback.extract_tb(tb)\n",
    "    filename, line, func, text = tb_info[-1]"
   ]
  },
  {
   "cell_type": "markdown",
   "metadata": {},
   "source": [
    "#### Benchmark"
   ]
  },
  {
   "cell_type": "code",
   "execution_count": 5,
   "metadata": {},
   "outputs": [],
   "source": [
    "from string import ascii_uppercase\n",
    "from random import choice\n",
    "from time import time\n",
    "\n",
    "def random_str(size):\n",
    "    return \"\".join(choice(ascii_uppercase) for _ in range(size))\n",
    "\n",
    "def random_test(m, M, s):\n",
    "    it, tt = [], []\n",
    "    t = time()\n",
    "    \n",
    "    print(\"Running benchmark...\")\n",
    "    for i in range(m, M+1, s):\n",
    "        _t = time() \n",
    "        _ = repetida(random_str(i))\n",
    "        _t = time() - _t\n",
    "        \n",
    "        it.append(i)\n",
    "        tt.append(_t)\n",
    "        \n",
    "    print(\"Done, ran {} tests in {:4.6} s.\".format((M - m) // s, time() - t))\n",
    "    \n",
    "    return it, tt"
   ]
  },
  {
   "cell_type": "code",
   "execution_count": 6,
   "metadata": {},
   "outputs": [
    {
     "name": "stdout",
     "output_type": "stream",
     "text": [
      "Running benchmark...\n",
      "Done, ran 1000 tests in 117.025 s.\n"
     ]
    },
    {
     "data": {
      "image/png": "[encoded data removed]",
      "text/plain": [
       "<Figure size 432x288 with 1 Axes>"
      ]
     },
     "metadata": {},
     "output_type": "display_data"
    }
   ],
   "source": [
    "%matplotlib inline\n",
    "\n",
    "import matplotlib\n",
    "import numpy as np\n",
    "import matplotlib.pyplot as plt\n",
    "\n",
    "MIN, MAX, STEP = 0, 10**3, 1\n",
    "x, y = random_test(MIN, MAX, STEP)\n",
    "\n",
    "plt.title(\"Function repetida() benchmark\")\n",
    "plt.xlabel(\"String length\")\n",
    "plt.ylabel(\"Time (s)\")\n",
    "\n",
    "plt.plot(x, y)\n",
    "\n",
    "plt.show()"
   ]
  },
  {
   "cell_type": "markdown",
   "metadata": {},
   "source": [
    "#### Demostració complexitat $O(n^2)$"
   ]
  },
  {
   "cell_type": "code",
   "execution_count": 7,
   "metadata": {},
   "outputs": [
    {
     "data": {
      "image/png": "[encoded data removed]",
      "text/plain": [
       "<Figure size 432x288 with 1 Axes>"
      ]
     },
     "metadata": {},
     "output_type": "display_data"
    }
   ],
   "source": [
    "%matplotlib inline\n",
    "\n",
    "import matplotlib\n",
    "import numpy as np\n",
    "import matplotlib.pyplot as plt\n",
    "\n",
    "MIN, MAX, STEP = 0, 10**3, 1\n",
    "\n",
    "plt.title(\"Function repetida() complexity\")\n",
    "plt.xlabel(\"String length (n)\")\n",
    "plt.ylabel(\"Complexity\")\n",
    "\n",
    "x = np.arange(MIN, MAX, STEP)\n",
    "y1 = [sum(\n",
    "            [sum([2 for _ in range(ii + 2, i + 1)])\n",
    "            for ii in range(i)\n",
    "        ]) + i + 1\n",
    "      for i in x]\n",
    "\n",
    "y2 = [i**2 for i in x]\n",
    "\n",
    "plt.plot(x, y1)\n",
    "plt.plot(x, y2)\n",
    "plt.legend(labels=(\"repetida()\", \"O(n^2)\"), loc='lower right')\n",
    "\n",
    "plt.show()"
   ]
  },
  {
   "cell_type": "markdown",
   "metadata": {
    "colab_type": "text",
    "id": "KopY7lU0wy3K"
   },
   "source": [
    "### Avaluació (0 a 10 punts)\n",
    "\n",
    "\n",
    "Concepte | Puntuació \n",
    "--- | --- \n",
    "Solució correcta de complexitat O($n^3$) | **8** punts\n",
    "Bon ús col.leccions | **+1** punt\n",
    "Solució correcta de complexitat > O($n^3$) | **3** punts \n",
    "Codi comentat i seguint estàndar PEP8 | **+1** punt \n",
    "S'ofereix una funció adicional per mostrar la solució elegantment| **+0.5** punts \n",
    "L'algorisme falla repetidament | **-7** punts \n",
    "L'algorisme falla en algun cas excepcional | **-2** punt\n",
    "No es donen prous exemples d'execució | **-1** punt\n",
    "Codi, noms de variables, solució o comentaris no prou clars | **-1** punt\n",
    "La funció o els paràmetres no s'anomenen com a l'exemple | **-1** punt"
   ]
  }
 ],
 "metadata": {
  "colab": {
   "name": "SubsquenciaRepetida.ipynb",
   "provenance": []
  },
  "kernelspec": {
   "display_name": "Python 3",
   "language": "python",
   "name": "python3"
  },
  "language_info": {
   "codemirror_mode": {
    "name": "ipython",
    "version": 3
   },
   "file_extension": ".py",
   "mimetype": "text/x-python",
   "name": "python",
   "nbconvert_exporter": "python",
   "pygments_lexer": "ipython3",
   "version": "3.6.8"
  }
 },
 "nbformat": 4,
 "nbformat_minor": 1
}
