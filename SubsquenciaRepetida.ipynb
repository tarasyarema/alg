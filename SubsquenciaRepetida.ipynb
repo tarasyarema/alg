{
 "cells": [
  {
   "cell_type": "markdown",
   "metadata": {
    "colab_type": "text",
    "id": "aNHKQf9nwy3A"
   },
   "source": [
    "# <span class=\"tema\">(Text)</span> Subseqüència repetida més llarga"
   ]
  },
  {
   "cell_type": "markdown",
   "metadata": {
    "colab_type": "text",
    "id": "iJ13Es2Jwy3B"
   },
   "source": [
    "Donada una cadena de caràcters verificar si conté una seqüència de caràcters repetida. La seqüència ha de contenir com a mínim 2 caràcters i cada repetició ha de tenir els seus propis caràcters, no es poden solapar.\n",
    "\n",
    "seqRepetida('BANANA') --> Hauria de retornar: conté AN com a seqüència repetida (o NA)<br>\n",
    "seqRepetida('AABAABAABA') --> Hauria de retornar: conté AABA com a seqüència repetida (atenció AA o AAB no serveixen perquè no són la més llarga)<br>\n",
    "seqRepetida('XXXXXX') --> Hauria de retornar: conté XXX com a seqüència repetida<br>\n",
    "seqRepetida('ABCCBA') --> Hauria de retornar: no conté cap seqüència repetida<br>\n",
    "seqRepetida('ABBA') --> Hauria de retornar: no conté cap seqüència repetida<br>\n",
    "seqRepetida('XYBZXAXBZ') --> Hauria de retornar: conté BZ com a seqüència repetida<br>\n",
    "seqRepetida('ABRACADABRA') --> Hauria de retornar: conté ABRA com a seqüència repetida<br>\n",
    "seqRepetida('BABABABABA') --> Hauria de retornar: conté BABA com a seqüència repetida<br>"
   ]
  },
  {
   "cell_type": "markdown",
   "metadata": {
    "colab_type": "text",
    "id": "8d1rfK_Swy3D"
   },
   "source": [
    "### Conceptualització problema\n",
    "\n",
    "1. Quines col.leccions has usat? Perquè?\n",
    "1. Enumera les operacions que has fet amb aquestes col.leccions i busca la seva complexitat. Calcula la complexitat de tot l'algorisme\n",
    "\n",
    "### Testeig\n",
    "\n",
    "Abans de programar penseu en 3 exemples que posin a prova l'algorisme i en la seva solució.\n",
    "\n",
    "### Implementació"
   ]
  },
  {
   "cell_type": "code",
   "execution_count": 5,
   "metadata": {
    "colab": {},
    "colab_type": "code",
    "id": "bafKrB2Hwy3E"
   },
   "outputs": [],
   "source": [
    "def repetida(paraula):\n",
    "    return paraula"
   ]
  },
  {
   "cell_type": "code",
   "execution_count": 6,
   "metadata": {},
   "outputs": [],
   "source": [
    "def pretty_repetida(paraula):\n",
    "    return \"repetida(\\\"{p}\\\") = \\\"{r}\\\"\"\\\n",
    "            .format(p=paraula, r=repetida(paraula))"
   ]
  },
  {
   "cell_type": "code",
   "execution_count": 8,
   "metadata": {},
   "outputs": [
    {
     "name": "stdout",
     "output_type": "stream",
     "text": [
      "repetida(\"banana\") = \"banana\"\n"
     ]
    }
   ],
   "source": [
    "print(pretty_repetida(\"banana\"))"
   ]
  },
  {
   "cell_type": "markdown",
   "metadata": {
    "colab_type": "text",
    "id": "KopY7lU0wy3K"
   },
   "source": [
    "### Avaluació (0 a 10 punts)\n",
    "\n",
    "\n",
    "Concepte | Puntuació \n",
    "--- | --- \n",
    "Solució correcta de complexitat O($n^3$) | **8** punts\n",
    "Bon ús col.leccions | **+1** punt\n",
    "Solució correcta de complexitat > O($n^3$) | **3** punts \n",
    "Codi comentat i seguint estàndar PEP8 | **+1** punt \n",
    "S'ofereix una funció adicional per mostrar la solució elegantment| **+0.5** punts \n",
    "L'algorisme falla repetidament | **-7** punts \n",
    "L'algorisme falla en algun cas excepcional | **-2** punt\n",
    "No es donen prous exemples d'execució | **-1** punt\n",
    "Codi, noms de variables, solució o comentaris no prou clars | **-1** punt\n",
    "La funció o els paràmetres no s'anomenen com a l'exemple | **-1** punt"
   ]
  }
 ],
 "metadata": {
  "colab": {
   "name": "SubsquenciaRepetida.ipynb",
   "provenance": []
  },
  "kernelspec": {
   "display_name": "Python 3",
   "language": "python",
   "name": "python3"
  },
  "language_info": {
   "codemirror_mode": {
    "name": "ipython",
    "version": 3
   },
   "file_extension": ".py",
   "mimetype": "text/x-python",
   "name": "python",
   "nbconvert_exporter": "python",
   "pygments_lexer": "ipython3",
   "version": "3.6.8"
  }
 },
 "nbformat": 4,
 "nbformat_minor": 1
}
