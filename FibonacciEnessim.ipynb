{
 "cells": [
  {
   "cell_type": "markdown",
   "metadata": {
    "colab_type": "text",
    "id": "MY-saorYn_7_"
   },
   "source": [
    "<div id=\"capcalera\">\n",
    "<p><a href=\"https://colab.research.google.com/github/algorismica2019/problemes/blob/master/FibonacciEnessim.ipynb\"><img style=\"margin:-10px 10px 20px 0\" width=\"150px\" align=\"right\" src=\"https://raw.githubusercontent.com/algorismica2019/problemes/master/assets/colab-badge.png?raw=1\" alt=\"Obrir a Colab\" title=\"Obrir i executar a Google Colaboratory\"></a></p>\n",
    "<p style=\"clear:both\"><img align='left' width=\"300px\" style=\"padding-right:10px;float=left\" src=\"https://raw.githubusercontent.com/algorismica2019/problemes/master/assets/al-khwarizmi.png\">Aquest notebook forma part dels continguts teòrics dels problemes de l'assignatura d'<strong>Algorísmica</strong> del Grau d'Enginyeria Informàtica a la <a href=\"https://mat.ub.edu\">Facultat de Matemàtiques i Informàtica</a> de la <a href=\"https://www.ub.edu\">Universitat de Barcelona</a> impartida per <em>Jordi Vitrià</em> i <em>Mireia Ribera</em></p>\n",
    "\n",
    "<p>Els problemes s'ofereixen sota llicència <a href=\"https://creativecommons.org/licenses/by-nc-nd/3.0/us/legalcode\">CC-BY-NC-ND license</a>, i el codi sota <a href=\"https://opensource.org/licenses/MIT\">Llicència MIT</a>.</p>\n",
    "\n",
    "<p style=\"clear:both;text-align:center\">&lt; <a href=\"Erastotenes.ipynb\">Problema anterior</a> | <a href=\"LListatProblemes.ipynb\">LListat de problemes</a> | <a href=\"Karatsuba.ipynb\">Problema següent</a> &gt; </p>\n",
    "\n",
    "</div>"
   ]
  },
  {
   "cell_type": "markdown",
   "metadata": {
    "colab_type": "text",
    "id": "00v-zXgCn_8D"
   },
   "source": [
    "# <span class=\"tema\">(Numèrics)</span> Càlcul de l'enèssim element de la seqüència de Fibonacci"
   ]
  },
  {
   "cell_type": "markdown",
   "metadata": {
    "colab_type": "text",
    "id": "YNhQEmden_8G"
   },
   "source": [
    "Escriu la versió recursiva del càlcul de l’enèssim element de la seqüència de Fibonacci, ``fib1``. L’algorisme ha de tenir com a paràmetre d'entrada el nombre $n$ que l'usuari vol calcular, i ha de retornar el valor corresponent de la seqüència de Fibonacci i el temps que ha invertit en calcular-lo."
   ]
  },
  {
   "cell_type": "markdown",
   "metadata": {
    "colab_type": "text",
    "id": "ouMaDEDQn_8I"
   },
   "source": [
    "### Conceptualització problema\n",
    "\n",
    "1. L'algorisme de Fibonacci el coneixem de sobra; el que ens interessa en aquest problema és l'optimització\n",
    "1. En un algorisme què es pot optimitzar? optimitza ambdós en la solució presentada."
   ]
  },
  {
   "cell_type": "markdown",
   "metadata": {
    "colab_type": "text",
    "id": "q5MYOp4an_8K"
   },
   "source": [
    "### Testeig\n",
    "\n",
    "Defineix aquí diversos exemples d'execucions que cobreixin els casos que pot presentar l'algorisme\n",
    "\n",
    "Exemple:\n",
    "- fib1(8)  #aquest exemple hauria de retornar (21, 1.2e-05) \n",
    "\n",
    "El temps podria ser una mica diferent\n",
    "\n",
    "### Implementació"
   ]
  },
  {
   "cell_type": "code",
   "execution_count": 1,
   "metadata": {
    "colab": {},
    "colab_type": "code",
    "collapsed": false,
    "id": "xe96h0Sin_8N"
   },
   "outputs": [],
   "source": [
    "# Posar aquí el codi de la funció seguint el patró donat\n",
    "from time import time\n",
    "\n",
    "\n",
    "def memoize(f):\n",
    "    \"\"\"\n",
    "    Utilitzem memoització:\n",
    "    Donat que l'algoritme recursiu de fibonacci\n",
    "    es divideix en dos en casa recurssió, molts cops es\n",
    "    calcula el mateix F(n), per tant, el guardem en comptes\n",
    "    de calcular-lo de nou cada cop\n",
    "    \"\"\"\n",
    "    \n",
    "    memo = {}\n",
    "    def helper(x):\n",
    "        if x not in memo:            \n",
    "            memo[x] = f(x)\n",
    "        return memo[x]\n",
    "    return helper"
   ]
  },
  {
   "cell_type": "code",
   "execution_count": 2,
   "metadata": {
    "collapsed": true
   },
   "outputs": [],
   "source": [
    "def fib1(n):\n",
    "    \"\"\"\n",
    "    Funció que computa el n.éssim número de Fibonacci.\n",
    "    \n",
    "    :param n: n-éssim fib a computar\n",
    "    :return: F(n)\n",
    "    \"\"\"\n",
    "    \n",
    "    if n == 0:\n",
    "        return 0\n",
    "    elif n == 1:\n",
    "        return 1\n",
    "    \n",
    "    return fib1(n-1) + fib1(n-2)\n",
    "\n",
    "# Utilitzem la memoització\n",
    "fib1 = memoize(fib1)"
   ]
  },
  {
   "cell_type": "code",
   "execution_count": 3,
   "metadata": {
    "collapsed": true
   },
   "outputs": [],
   "source": [
    "def test_fib(n):\n",
    "    \"\"\"\n",
    "    Funció que testeja el temps d'execució de la funció fib1.\n",
    "    \n",
    "    :param n:\n",
    "    :return: F(n), temps total d'execució\n",
    "    \"\"\"\n",
    "    \n",
    "    t_start = time()\n",
    "    f_n = fib1(n)\n",
    "    t_elapsed = time() - t_start\n",
    "    \n",
    "    return f_n, t_elapsed "
   ]
  },
  {
   "cell_type": "code",
   "execution_count": 4,
   "metadata": {
    "collapsed": false
   },
   "outputs": [
    {
     "name": "stdout",
     "output_type": "stream",
     "text": [
      "F(00) =      0, Total time: 2.14577e-06\n",
      "F(01) =      1, Total time: 1.19209e-06\n",
      "F(02) =      1, Total time: 1.43051e-06\n",
      "F(03) =      2, Total time: 9.53674e-07\n",
      "F(04) =      3, Total time: 2.14577e-06\n",
      "F(05) =      5, Total time: 1.66893e-06\n",
      "F(06) =      8, Total time: 1.19209e-06\n",
      "F(07) =     13, Total time: 7.15256e-07\n",
      "F(08) =     21, Total time: 7.15256e-07\n",
      "F(09) =     34, Total time: 7.15256e-07\n",
      "F(10) =     55, Total time: 7.15256e-07\n",
      "F(11) =     89, Total time: 1.43051e-06\n",
      "F(12) =    144, Total time: 9.53674e-07\n",
      "F(13) =    233, Total time: 7.15256e-07\n",
      "F(14) =    377, Total time: 4.76837e-07\n",
      "F(15) =    610, Total time: 7.15256e-07\n",
      "F(16) =    987, Total time: 7.15256e-07\n",
      "F(17) =   1597, Total time: 7.15256e-07\n",
      "F(18) =   2584, Total time: 4.76837e-07\n",
      "F(19) =   4181, Total time: 7.15256e-07\n",
      "F(20) =   6765, Total time: 7.15256e-07\n",
      "F(21) =  10946, Total time: 1.43051e-06\n",
      "F(22) =  17711, Total time: 9.53674e-07\n",
      "F(23) =  28657, Total time: 7.15256e-07\n",
      "F(24) =  46368, Total time: 7.15256e-07\n",
      "F(25) =  75025, Total time: 7.15256e-07\n",
      "F(26) = 121393, Total time: 7.15256e-07\n",
      "F(27) = 196418, Total time: 7.15256e-07\n",
      "F(28) = 317811, Total time: 7.15256e-07\n",
      "F(29) = 514229, Total time: 7.15256e-07\n",
      "F(30) = 832040, Total time: 7.15256e-07\n"
     ]
    }
   ],
   "source": [
    "MAX = 30\n",
    "\n",
    "for i in range(MAX+1):\n",
    "    f_n, t = test_fib(i)\n",
    "    print(\"F({i:02}) = {f_n:6}, Total time: {t:2.6}\"\n",
    "          .format(i=i, f_n=f_n, t=t))"
   ]
  },
  {
   "cell_type": "markdown",
   "metadata": {
    "colab_type": "text",
    "id": "vYoHKsFUn_8T"
   },
   "source": [
    "### Avaluació (0 a 10 punts)\n",
    "\n",
    "\n",
    "Concepte | Puntuació \n",
    "--- | --- \n",
    "Solució correcta amb temps optimitzat | **8** punts\n",
    "Solució correcta amb espai optimitzat | **+1** punt\n",
    "Solució correcta no optimitzada | **1** punts \n",
    "Codi comentat i seguint estàndar PEP8 | **+1** punt \n",
    "L'algorisme falla repetidament | **-7** punts \n",
    "L'algorisme falla en algun cas excepcional | **-2** punt\n",
    "Codi, noms de variables, solució o comentaris no prou clars | **-1** punt\n",
    "La funció o els paràmetres no s'anomenen com a l'exemple | **-1** punt"
   ]
  },
  {
   "cell_type": "code",
   "execution_count": 5,
   "metadata": {
    "colab": {},
    "colab_type": "code",
    "collapsed": false,
    "id": "qqz7oIs8n_8U",
    "outputId": "30c2890a-ee7e-4d50-a89c-183dcabfea32"
   },
   "outputs": [
    {
     "ename": "ImportError",
     "evalue": "No module named 'requests'",
     "output_type": "error",
     "traceback": [
      "\u001b[0;31m---------------------------------------------------------------------------\u001b[0m",
      "\u001b[0;31mImportError\u001b[0m                               Traceback (most recent call last)",
      "\u001b[0;32m<ipython-input-5-055efd8ee883>\u001b[0m in \u001b[0;36m<module>\u001b[0;34m()\u001b[0m\n\u001b[1;32m      1\u001b[0m \u001b[0;31m# Executar aquesta cel.la per donar estil al notebook\u001b[0m\u001b[0;34m\u001b[0m\u001b[0;34m\u001b[0m\u001b[0m\n\u001b[1;32m      2\u001b[0m \u001b[0;32mfrom\u001b[0m \u001b[0mIPython\u001b[0m\u001b[0;34m.\u001b[0m\u001b[0mcore\u001b[0m\u001b[0;34m.\u001b[0m\u001b[0mdisplay\u001b[0m \u001b[0;32mimport\u001b[0m \u001b[0mHTML\u001b[0m\u001b[0;34m\u001b[0m\u001b[0m\n\u001b[0;32m----> 3\u001b[0;31m \u001b[0;32mimport\u001b[0m \u001b[0mrequests\u001b[0m\u001b[0;34m\u001b[0m\u001b[0m\n\u001b[0m\u001b[1;32m      4\u001b[0m \u001b[0mstyle\u001b[0m\u001b[0;34m=\u001b[0m\u001b[0mrequests\u001b[0m\u001b[0;34m.\u001b[0m\u001b[0mget\u001b[0m\u001b[0;34m(\u001b[0m\u001b[0;34m'https://raw.githubusercontent.com/algorismica2019/problemes/master/assets/prova.css'\u001b[0m\u001b[0;34m)\u001b[0m\u001b[0;34m.\u001b[0m\u001b[0mtext\u001b[0m\u001b[0;34m\u001b[0m\u001b[0m\n\u001b[1;32m      5\u001b[0m \u001b[0mHTML\u001b[0m\u001b[0;34m(\u001b[0m\u001b[0;34m'<style>{}</style>'\u001b[0m\u001b[0;34m.\u001b[0m\u001b[0mformat\u001b[0m\u001b[0;34m(\u001b[0m\u001b[0mstyle\u001b[0m\u001b[0;34m)\u001b[0m\u001b[0;34m)\u001b[0m\u001b[0;34m\u001b[0m\u001b[0m\n",
      "\u001b[0;31mImportError\u001b[0m: No module named 'requests'"
     ]
    }
   ],
   "source": [
    "# Executar aquesta cel.la per donar estil al notebook\n",
    "from IPython.core.display import HTML\n",
    "import requests\n",
    "style=requests.get('https://raw.githubusercontent.com/algorismica2019/problemes/master/assets/prova.css').text\n",
    "HTML('<style>{}</style>'.format(style))"
   ]
  },
  {
   "cell_type": "markdown",
   "metadata": {
    "colab_type": "text",
    "id": "3OnwJPJIn_8c"
   },
   "source": [
    "<div id=\"peu\">\n",
    "<p><a href=\"https://colab.research.google.com/github/algorismica2019/problemes/blob/master/FibonacciEnessim.ipynb\"><img style=\"margin:-10px 10px 20px 0\" width=\"150px\" align=\"right\" src=\"https://raw.githubusercontent.com/algorismica2019/problemes/master/assets/colab-badge.png?raw=1\" alt=\"Obrir a Colab\" title=\"Obrir i executar a Google Colaboratory\"></a></p>\n",
    "<p style=\"clear:both;text-align:center\">&lt; <a href=\"Erastotenes.ipynb\">Problema anterior</a> | <a href=\"LListatProblemes.ipynb\">LListat de problemes</a> | <a href=\"Karatsuba.ipynb\">Problema següent</a> &gt; </p>\n",
    "</div>"
   ]
  }
 ],
 "metadata": {
  "colab": {
   "name": "FibonacciEnessim.ipynb",
   "provenance": []
  },
  "kernelspec": {
   "display_name": "Python 3",
   "language": "python",
   "name": "python3"
  },
  "language_info": {
   "codemirror_mode": {
    "name": "ipython",
    "version": 3
   },
   "file_extension": ".py",
   "mimetype": "text/x-python",
   "name": "python",
   "nbconvert_exporter": "python",
   "pygments_lexer": "ipython3",
   "version": "3.5.3"
  }
 },
 "nbformat": 4,
 "nbformat_minor": 0
}
